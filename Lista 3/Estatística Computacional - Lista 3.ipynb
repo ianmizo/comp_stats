{
 "cells": [
  {
   "cell_type": "markdown",
   "metadata": {},
   "source": [
    "# Questão 1\n",
    "Indique o algoritmo para construir geradores de números aleatórios (partindo de números com distribuição uniforme [0,1]) para: \n",
    "\n",
    "O procedimento geral é realizado da seguinte forma: primeiro, a partir da função de densidade de cada distribuição, precisamos encontrar a função de distribuição acumulada. Tendo esta definição, precisamos então encontrar a função inversa da acumulada. Munidos destas expressões, geramos valores de uma distribuição Uniforme [0,1] (que aqui servem como probabilidades), e utilizamos esses valores para gerar números aleatórios na distribuição  de nosso interesse."
   ]
  },
  {
   "cell_type": "markdown",
   "metadata": {},
   "source": [
    "a) Distribuição de Pareto ( densidade $f(x|\\alpha, \\beta) = \\frac{\\beta \\alpha^{\\beta}}{x^{(\\beta + 1)}} I_{(\\alpha, \\infty)}(X)$.)\n",
    "<br>\n",
    "**Resolução**:  \n",
    "\n",
    "Tendo que a densidade da distribuição de Pareto é dada por $f(x|\\alpha, \\beta) = \\frac{\\beta \\alpha^{\\beta}}{x^{(\\beta + 1)}} I_{(\\alpha, \\infty)}(X)$, precisamos integrar essa expressão em relação a x para encontrar a acumulada. \n",
    "\n",
    "\\begin{equation*}\n",
    "    F(x) = \\int \\limits_{\\alpha}^x \\frac{\\beta \\alpha^{\\beta}}{t^{(\\beta + 1)}} dt = - \\frac{\\alpha^{\\beta}}{t^{\\beta}} \\Bigg|_{\\alpha}^x = 1 - \\frac{\\alpha^{\\beta}}{x^{\\beta}}\n",
    "\\end{equation*}\n",
    "\n",
    "Tendo a acumulada, para nosso gerador de números aleatórios precisamos encontrar a inversa da acumulada:  \n",
    "\n",
    "\\begin{equation*}\n",
    "    F^{-1} \\rightarrow (1-y)^{-\\frac{1}{\\beta}} \\alpha = x\n",
    "\\end{equation*}\n",
    "\n",
    "Como y é um valor entre 0 e 1, esta expressão também pode ser reescrita da seguinte forma, sem alterar o gerador de números aleatórios:  \n",
    "\n",
    "\\begin{equation*}\n",
    "    F^{-1} \\rightarrow (y)^{-\\frac{1}{\\beta}} \\alpha = x\n",
    "\\end{equation*}\n"
   ]
  },
  {
   "cell_type": "markdown",
   "metadata": {},
   "source": [
    "b) Distribuição Gumbel padrão $$f(x) = e^{− (x+e^{− x})}$$"
   ]
  },
  {
   "cell_type": "markdown",
   "metadata": {},
   "source": [
    "Para encontrar a acumulada:  \n",
    "\n",
    "$$\n",
    "\\begin{align*}\n",
    "    F(x) & = \\int \\limits_{-\\infty}^x e^{−(t+e^{−t})} dt = \\int \\limits_{-\\infty}^x e^{−t} e^{-e^{−t}} dt \\\\\n",
    "    u & = e^{−t}  dt = \\frac{du}{-e^{−t}} \\\\\n",
    "    & = \\int \\limits_{-\\infty}^x -e^{−u} du \\\\\n",
    "    & = e^{−u} \\Bigg|_{-\\infty}^x \\\\\n",
    "    & = e^{-e^{−t}} \\Bigg|_{-\\infty}^x \\\\\n",
    "    & = e^{-e^{−x}}\n",
    "\\end{align*}\n",
    "$$\n",
    "\n",
    "A partir da acumulada, encontramos a inversa:  \n",
    "  \n",
    "$$  \n",
    "\\begin{align*}\n",
    "    F^{-1} \\rightarrow e^{-e^{−x}} & = y \\\\\n",
    "    x & = -ln(-ln(y))\\text{, onde y é uma variável Uniforme [0,1]}\n",
    "\\end{align*}\n",
    "$$  "
   ]
  },
  {
   "cell_type": "markdown",
   "metadata": {},
   "source": [
    "c) Distribuição F  \n",
    "<br>  \n",
    "**Resolução:**\n",
    "\n",
    "Para gerar valores de uma distribuição $F(a,b)$, podemos utilizar algumas relações conhecidas. Primeiro, sendo $Y \\sim \\chi^2_a$ e $Z \\sim \\chi^2_b$ independentes, temos que:  \n",
    "\n",
    "\\begin{equation*}\n",
    "    \\frac{\\frac{Y}{a}}{\\frac{Z}{b}} \\sim F(a,b)\n",
    "\\end{equation*}\n",
    "\n",
    "Por sua vez, para gerar as variáveis $Y$ e $Z$, podemos utilizar outro resultado conhecido. Sendo $W_i \\sim Normal$:  \n",
    "\n",
    "\\begin{equation*}\n",
    "    \\sum \\limits_{i=1}^{n} W_{i}^{2} \\sim \\chi^{2}_{n}\n",
    "\\end{equation*}\n",
    "\n",
    "Finalmente, podemos utilizar o método de Box-Muller para gerar variáveis aleatórias Normais a partir de variáveis aleatórias Uniformes. Sendo assim, o algoritmo para gerar um valor aleatório da distribuição $F(a,b)$ é:  \n",
    "1 - Utilizar o método de Box-Muller para gerar dois conjuntos variáveis aleatórias Normais, um de tamanho $a$ e outro de tamanho $b$, a partir de Uniformes[0,1].  \n",
    "2 - Utilizar os conjuntos de variáveis aleatórias Normais para gerar dois valores aleatórios com distribuições Chi quadrado.\n",
    "3 - Utilizar as duas variáveis "
   ]
  },
  {
   "cell_type": "markdown",
   "metadata": {},
   "source": [
    "d) Distribuição binomial negativa.  \n",
    "<br>  \n",
    "**Resolução:**  \n",
    "\n",
    "Para gerar números aleatórios de distribuições discretas, é preciso primeiro definir os intervalos de probabilidade associados a cada valor. Isso é problemático para distribuições que tem suporte em ${\\rm I\\!R}^+$, pois tecnicamente teríamos que criar infinitos intervalos. Porém, como a probabilidade da distribuição binomial negativa decresce conforme x aumenta, podemos gerar intervalos até um limite superior que contenha quase toda a probabilidade.  \n",
    "Tendo os intervalos, geramos variáveis aleatórias Uniformes[0,1], encontramos o intervalo correspondente e devolvemos aquele valor como a variável aleatória de interesse."
   ]
  },
  {
   "cell_type": "markdown",
   "metadata": {},
   "source": [
    "e) Distribuição bivariada com parâmetros $p \\in (0, 1)$ e $n \\in \\{1, 2, · · ·\\}$ e com função massa conjunta  \n",
    "\n",
    "\\begin{equation*}\n",
    "p(x, y|p) = \\begin{pmatrix} n \\\\ x \\end{pmatrix} \\begin{pmatrix} n \\\\ y \\end{pmatrix} \\frac{x^y (n − x)^{(n−y)} p^x(1-p)^{(n−x)}}{n^n}\\text{, } \\;\\;\\;\\;\\; x, y \\in \\{0, 1, · · · , n\\}\n",
    "\\end{equation*}\n",
    "\n",
    "<br>\n",
    "\n",
    "**Resolução:**   \n",
    "Desta vez, como $x$ e $y$ são limitados por $n$, podemos considerar toda a estrutura de probabilidade para gerar valores aleatórios. O procedimento é semelhante ao do item (d), mas desconsiderando o limite superior de probabilidade. Assim, primeiro geramos os intervalos de probabilidade associada a cada par de valores $(x, y)$, e depois utilizamos uma variável aleatória Uniforme[0,1] para escolher aleatoriamente valores desta distribuição. "
   ]
  },
  {
   "cell_type": "markdown",
   "metadata": {},
   "source": [
    "# Questão 2\n",
    "Se a variável aleatória X é um modelo de escala e locação, então sua função densidade tem a forma\n",
    "$f(x|a, b) = (1/b)f_0((x − a)/b)$, em que $f_0(x)$ é uma densidade que depende apenas de x, e não dos parâmetros\n",
    "de escala b e locação a."
   ]
  },
  {
   "cell_type": "markdown",
   "metadata": {},
   "source": [
    "a) Mostre que a geração de X, de uma variável $X_0$ com distribuição de $f_0$ é dada por $X = a + bX_0$.\n",
    "<br>\n",
    "**Resolução:**  \n",
    "\n",
    "Com X definido conforme acima, \n",
    "\\begin{align*}\n",
    "    F_X(x) & = P(X \\leq x) \\\\\n",
    "    & = P(a + bX_0 \\leq x) \\\\\n",
    "    & = P(X_0 \\leq \\frac{x-a}{b}) \\\\\n",
    "    & = F_{X_0}(\\frac{x-a}{b})\n",
    "\\end{align*}\n",
    "\n"
   ]
  },
  {
   "cell_type": "markdown",
   "metadata": {},
   "source": [
    "b) Aplique o resultado do item a para gerar valores com distribuição U[a−1/2; a + 1/2], U[0; b], e U[a; b] a partir\n",
    "da U[0; 1].\n",
    "<br>\n",
    "\n",
    "**Resolução:**  \n",
    "Para a distribuição uniforme contínua Uniforme[a, b], o parâmetro de locação é dado por $a$ e o parâmetro de escala é dado pela amplitude do intervalo, ou seja, $b - a$. Sendo assim, podemos implementar o método da seguinte forma:  "
   ]
  },
  {
   "cell_type": "code",
   "execution_count": 18,
   "metadata": {},
   "outputs": [],
   "source": [
    "customUniform = function(size, a, b){\n",
    "    x0 = runif(size, 0, 1)\n",
    "    return(a + (b-a)*x0)\n",
    "}"
   ]
  },
  {
   "cell_type": "code",
   "execution_count": 19,
   "metadata": {},
   "outputs": [],
   "source": [
    "# Valores arbitrários para implementação\n",
    "SIZE = 1000\n",
    "a = 1 \n",
    "b = 5 "
   ]
  },
  {
   "cell_type": "code",
   "execution_count": 20,
   "metadata": {},
   "outputs": [
    {
     "data": {
      "text/html": [
       "TRUE"
      ],
      "text/latex": [
       "TRUE"
      ],
      "text/markdown": [
       "TRUE"
      ],
      "text/plain": [
       "[1] TRUE"
      ]
     },
     "metadata": {},
     "output_type": "display_data"
    },
    {
     "data": {
      "text/html": [
       "TRUE"
      ],
      "text/latex": [
       "TRUE"
      ],
      "text/markdown": [
       "TRUE"
      ],
      "text/plain": [
       "[1] TRUE"
      ]
     },
     "metadata": {},
     "output_type": "display_data"
    },
    {
     "data": {
      "text/html": [
       "TRUE"
      ],
      "text/latex": [
       "TRUE"
      ],
      "text/markdown": [
       "TRUE"
      ],
      "text/plain": [
       "[1] TRUE"
      ]
     },
     "metadata": {},
     "output_type": "display_data"
    }
   ],
   "source": [
    "t1 = customUniform(SIZE, a - 1/2, a + 1/2) # U[a−1/2, a + 1/2]\n",
    "ks.test(t1, \"punif\", a - 1/2, a + 1/2)$p > 0.05 # Testa se os valores gerados passam no teste de Kolmogorov-Smirnov\n",
    "\n",
    "t2 = customUniform(SIZE, 0, b) # U[0, b]\n",
    "ks.test(t2, \"punif\", 0, b)$p > 0.05 # Testa se os valores gerados passam no teste de Kolmogorov-Smirnov\n",
    "\n",
    "t3 = customUniform(SIZE, a, b) # U[a, b]\n",
    "ks.test(t3, \"punif\", a, b)$p > 0.05 # Testa se os valores gerados passam no teste de Kolmogorov-Smirnov"
   ]
  },
  {
   "cell_type": "markdown",
   "metadata": {},
   "source": [
    "# Questão 3\n",
    "Sejam $U_1, U_2, ...$ variáveis independetes com distribuição uniforme padrão. Seja  \n",
    "\\begin{equation*}\n",
    "    X = \\{\\text{menor n tal que } \\sum \\limits_{i=1}^n U_i > 1\\}\n",
    "\\end{equation*}\n",
    "\n",
    "Utilize uma simulação de Monte Carlo para  \n",
    "a) Estimar $E(X)$. Qual o erro padrão desta estimativa?"
   ]
  },
  {
   "cell_type": "code",
   "execution_count": 21,
   "metadata": {},
   "outputs": [],
   "source": [
    "SIZE = 1000\n",
    "threshold = 1\n",
    "results = numeric(SIZE)\n",
    "for (i in 1:SIZE) {\n",
    "    sum = 0\n",
    "    iter = 0\n",
    "    while (sum < threshold) {\n",
    "        sum = sum + runif(1, 0, 1)\n",
    "        iter = iter + 1\n",
    "    }\n",
    "    results[i] = iter\n",
    "}"
   ]
  },
  {
   "cell_type": "code",
   "execution_count": 22,
   "metadata": {},
   "outputs": [
    {
     "name": "stdout",
     "output_type": "stream",
     "text": [
      "[1] \"E(X) =  2.665\"\n",
      "[1] \"Variância da estimativa =  0.0269958330117817\"\n"
     ]
    }
   ],
   "source": [
    "est = mean(results) # Estimativa por Monte Carlo\n",
    "vest = sqrt(sum((results-est)^2))/(SIZE)\n",
    "print(paste(\"E(X) = \", est))\n",
    "print(paste(\"Variância da estimativa = \", vest))"
   ]
  },
  {
   "cell_type": "markdown",
   "metadata": {},
   "source": [
    "Utilizando mil repetições, temos que $E(X) = \\overline{X} =  2,665$ e $Var(\\overline{X}) = 0,027$. Aumentando a amostra, teríamos uma redução do erro da aproximação de Monte Carlo. "
   ]
  },
  {
   "cell_type": "markdown",
   "metadata": {},
   "source": [
    "b)  Estimar $P(X \\geq 10)$. Qual o erro padrão desta estimativa?  \n",
    "<br>  \n",
    "**Resolução:**  \n",
    "Como a probabilidade de $P(X \\geq 10)$ é muito pequena, precisamos utilizar *importance sampling* para nos ajudar nesta simulação. Caso contrário, seria necessário um número muito grande de replicações para encontrar o caso de interesse. \n",
    "Uma boa candidata é a distribuição Beta, que gera valores entre 0 e 1 e, dependendo dos parâmetros, gera valores pequenos com baixa probabilidade. Teremos: \n",
    "\n",
    "\\begin{align*}\n",
    "    f(x) & = 1 \\text{, a fdp de uma Uniforme[0,1]} \\\\\n",
    "    h(x) & = \\{\\text{menor n tal que } \\sum \\limits_{i=1}^n Y_i > 1\\} \\\\\n",
    "    g(x) & = \\prod \\limits^n_{i=1}Beta(y|\\alpha, \\beta)\n",
    "\\end{align*}\n",
    "\n",
    "Para simplificar a implementação, vamos considerar $P(X < 10)$ e encontrar o complementar dessa probabilidade. Para o caso $P(X \\geq 10)$, teríamos que lidar com vetores de tamanhos variáveis."
   ]
  },
  {
   "cell_type": "code",
   "execution_count": 23,
   "metadata": {},
   "outputs": [
    {
     "name": "stdout",
     "output_type": "stream",
     "text": [
      "[1] \"P(X>=10) =  2.87851020395434e-06\"\n",
      "[1] \"Variância da estimativa =  1.57559294436104e-07\"\n"
     ]
    }
   ],
   "source": [
    "SIZE = 1000\n",
    "threshold = 1\n",
    "alpha = 1\n",
    "beta = 10\n",
    "results = numeric(SIZE)\n",
    "betas = mapply(rbeta, n = rep(SIZE, 9), alpha, beta)\n",
    "\n",
    "hx = (rowSums(betas) <= threshold) # Caso as nove primeiras observações não alcancem o threshold desejado, temos que X>=10\n",
    "gx = apply(dbeta(betas, alpha, beta), 1, prod) # g(x), produtório de Beta(y|alpha, beta)\n",
    "\n",
    "y = hx/gx\n",
    "est = mean(y)  # Estimativa por Monte Carlo\n",
    "vest = sqrt(sum((y - est)^2))/(SIZE)\n",
    "print(paste(\"P(X>=10) = \", est))\n",
    "print(paste(\"Variância da estimativa = \", vest))"
   ]
  },
  {
   "cell_type": "markdown",
   "metadata": {},
   "source": [
    "c) Estimar P(X = 10). Qual o erro padrão desta estimativa?  \n",
    "<br>\n",
    "\n",
    "**Resolução:**  \n",
    "Podemos utilizar o mesmo procedimento realizado no item (b), de forma que:  "
   ]
  },
  {
   "cell_type": "code",
   "execution_count": 24,
   "metadata": {},
   "outputs": [
    {
     "name": "stdout",
     "output_type": "stream",
     "text": [
      "[1] \"P(X=10) =  1.46965702978165e-06\"\n",
      "[1] \"Variância da estimativa =  3.20376303082868e-07\"\n"
     ]
    }
   ],
   "source": [
    "SIZE = 1000\n",
    "threshold = 1\n",
    "alpha = 1\n",
    "beta = 10\n",
    "results = numeric(SIZE)\n",
    "betas = mapply(rbeta, n = rep(SIZE, 10), alpha, beta)\n",
    "\n",
    "hx = (rowSums(betas[,1:9]) <= threshold & rowSums(betas) > threshold) # Geramos 10 valores. Caso \n",
    "gx = apply(dbeta(betas, alpha, beta), 1, prod)\n",
    "\n",
    "y = hx/gx\n",
    "est = mean(y)  # Estimativa por Monte Carlo\n",
    "vest = sqrt(sum((y - est)^2))/(SIZE) # Erro da estimativa por Monte Carlo\n",
    "\n",
    "print(paste(\"P(X=10) = \", est))\n",
    "print(paste(\"Variância da estimativa = \", vest))"
   ]
  },
  {
   "cell_type": "markdown",
   "metadata": {},
   "source": [
    "# Questão 4\n",
    "Sejam\n",
    "\\begin{align*}\n",
    "    X & = (6.2, 5.1, 7.6, 2.5, 3.5, 9.4, 4.1, 6.3, 3.0, 0.8) \\\\ \n",
    "    Y & = (6.9, 5.1, 7.5, 11.1, 10.9, 4.2, 10.5, 6.8, 12.3, 14.3)\n",
    "\\end{align*}\n",
    "e considere o modelo de regressão linear $Y = \\beta_0 + \\beta_1 X + \\epsilon$. Sejam $\\hat{\\beta_0}$ e $\\hat{\\beta_1}$ os estimadores de mínimos quadrados de $\\beta_0$ e $\\beta_1$.  \n",
    "a) Utilize o bootstrap para construir um intervalo de confiança 95% para $\\hat{\\beta_0}$ e $\\hat{\\beta_1}$  \n",
    "<br>  \n",
    "**Resolução:**  \n",
    "Os estimadores de mínimos quadrados são:  \n",
    "\\begin{align*}\n",
    "    \\hat{\\beta_0} & = \\overline{Y} - \\beta_1 \\overline{X} \\\\\n",
    "    \\hat{\\beta_1} & = \\frac{Cov(X,Y)}{Var(X)}\n",
    "\\end{align*}\n",
    "Para construir o intervalo de confiança a 95%, vamos repetidamente amostrar valores, calcular os estimadores e guardar o resultado. Implementando, temos:  "
   ]
  },
  {
   "cell_type": "code",
   "execution_count": 25,
   "metadata": {},
   "outputs": [],
   "source": [
    "X = c(6.2, 5.1, 7.6, 2.5, 3.5, 9.4, 4.1, 6.3, 3, 0.8)\n",
    "\n",
    "Y = c(6.9, 5.1, 7.5, 11.1, 10.9, 4.2, 10.5, 6.8, 12.3, 14.3)\n",
    "\n",
    "B = 10000\n",
    "\n",
    "n = length(X)"
   ]
  },
  {
   "cell_type": "code",
   "execution_count": 26,
   "metadata": {},
   "outputs": [],
   "source": [
    "xb = matrix(sample(X, n * B, replace = T), nrow = B)\n",
    "yb = matrix(sample(Y, n * B, replace = T), nrow = B)\n",
    "\n",
    "xmean = apply(xb, 1, mean)\n",
    "ymean = apply(yb, 1, mean)\n",
    "\n",
    "vars = apply(xb, 1, var)\n",
    "\n",
    "betas0 = numeric(B)\n",
    "betas1 = numeric(B)\n",
    "\n",
    "for(i in 1:B){\n",
    "    covs = cov(xb[i,], yb[i, ])\n",
    "    betas1[i] = covs / vars[i]\n",
    "    betas0[i] = ymean[i] - betas1[i]*xmean[i]\n",
    "}"
   ]
  },
  {
   "cell_type": "code",
   "execution_count": 27,
   "metadata": {},
   "outputs": [
    {
     "data": {
      "text/html": [
       "<dl class=dl-horizontal>\n",
       "\t<dt>2.5%</dt>\n",
       "\t\t<dd>4.12741853012341</dd>\n",
       "\t<dt>97.5%</dt>\n",
       "\t\t<dd>13.8181645115827</dd>\n",
       "</dl>\n"
      ],
      "text/latex": [
       "\\begin{description*}\n",
       "\\item[2.5\\textbackslash{}\\%] 4.12741853012341\n",
       "\\item[97.5\\textbackslash{}\\%] 13.8181645115827\n",
       "\\end{description*}\n"
      ],
      "text/markdown": [
       "2.5%\n",
       ":   4.1274185301234197.5%\n",
       ":   13.8181645115827\n",
       "\n"
      ],
      "text/plain": [
       "     2.5%     97.5% \n",
       " 4.127419 13.818165 "
      ]
     },
     "metadata": {},
     "output_type": "display_data"
    },
    {
     "data": {
      "text/html": [
       "<dl class=dl-horizontal>\n",
       "\t<dt>2.5%</dt>\n",
       "\t\t<dd>-0.8971449820164</dd>\n",
       "\t<dt>97.5%</dt>\n",
       "\t\t<dd>0.912126527470265</dd>\n",
       "</dl>\n"
      ],
      "text/latex": [
       "\\begin{description*}\n",
       "\\item[2.5\\textbackslash{}\\%] -0.8971449820164\n",
       "\\item[97.5\\textbackslash{}\\%] 0.912126527470265\n",
       "\\end{description*}\n"
      ],
      "text/markdown": [
       "2.5%\n",
       ":   -0.897144982016497.5%\n",
       ":   0.912126527470265\n",
       "\n"
      ],
      "text/plain": [
       "      2.5%      97.5% \n",
       "-0.8971450  0.9121265 "
      ]
     },
     "metadata": {},
     "output_type": "display_data"
    }
   ],
   "source": [
    "quantile(betas0, c(0.025, 0.975)) # Intervalo de confiança para beta0 pelos quantis do Bootstrap\n",
    "quantile(betas1, c(0.025, 0.975)) # Intervalo de confiança para beta1 pelos quantis do Bootstrap"
   ]
  },
  {
   "cell_type": "markdown",
   "metadata": {},
   "source": [
    "b) Assumindo que X é dado e $\\epsilon \\sim N(0, \\sigma^2)$, utilize o bootstrap paramétrico para obter as mesmas estimativas.  \n"
   ]
  },
  {
   "cell_type": "code",
   "execution_count": 28,
   "metadata": {},
   "outputs": [],
   "source": [
    "beta1 = cov(X,Y)/var(X)\n",
    "beta0 = mean(Y) - beta1*mean(X)\n",
    "std = sqrt(var(Y - beta0 - beta1*X))"
   ]
  },
  {
   "cell_type": "code",
   "execution_count": 29,
   "metadata": {},
   "outputs": [],
   "source": [
    "xb = matrix(sample(X, n * B, replace = T), nrow = B)\n",
    "yb = matrix(sample(Y, n * B, replace = T), nrow = B)\n",
    "\n",
    "xmean = apply(xb, 1, mean)\n",
    "# ymean = apply(yb, 1, mean)\n",
    "\n",
    "vars = apply(xb, 1, var)\n",
    "\n",
    "betas0 = numeric(B)\n",
    "betas1 = numeric(B)\n",
    "\n",
    "for (i in 1:B) {\n",
    "    erros = rnorm(n, 0, std)\n",
    "    covs = cov(xb[i, ], yb[i, ] - erros)\n",
    "    betas1[i] = covs/vars[i]\n",
    "    betas0[i] = mean(yb[i,] - erros) - betas1[i] * xmean[i]\n",
    "}"
   ]
  },
  {
   "cell_type": "code",
   "execution_count": 30,
   "metadata": {},
   "outputs": [
    {
     "data": {
      "text/html": [
       "<dl class=dl-horizontal>\n",
       "\t<dt>2.5%</dt>\n",
       "\t\t<dd>3.7227185549315</dd>\n",
       "\t<dt>97.5%</dt>\n",
       "\t\t<dd>14.4818902714474</dd>\n",
       "</dl>\n"
      ],
      "text/latex": [
       "\\begin{description*}\n",
       "\\item[2.5\\textbackslash{}\\%] 3.7227185549315\n",
       "\\item[97.5\\textbackslash{}\\%] 14.4818902714474\n",
       "\\end{description*}\n"
      ],
      "text/markdown": [
       "2.5%\n",
       ":   3.722718554931597.5%\n",
       ":   14.4818902714474\n",
       "\n"
      ],
      "text/plain": [
       "     2.5%     97.5% \n",
       " 3.722719 14.481890 "
      ]
     },
     "metadata": {},
     "output_type": "display_data"
    },
    {
     "data": {
      "text/html": [
       "<dl class=dl-horizontal>\n",
       "\t<dt>2.5%</dt>\n",
       "\t\t<dd>-1.03635132395782</dd>\n",
       "\t<dt>97.5%</dt>\n",
       "\t\t<dd>1.01232181536544</dd>\n",
       "</dl>\n"
      ],
      "text/latex": [
       "\\begin{description*}\n",
       "\\item[2.5\\textbackslash{}\\%] -1.03635132395782\n",
       "\\item[97.5\\textbackslash{}\\%] 1.01232181536544\n",
       "\\end{description*}\n"
      ],
      "text/markdown": [
       "2.5%\n",
       ":   -1.0363513239578297.5%\n",
       ":   1.01232181536544\n",
       "\n"
      ],
      "text/plain": [
       "     2.5%     97.5% \n",
       "-1.036351  1.012322 "
      ]
     },
     "metadata": {},
     "output_type": "display_data"
    }
   ],
   "source": [
    "quantile(betas0, c(0.025, 0.975)) # Intervalo de confiança para beta0 pelos quantis do Bootstrap\n",
    "quantile(betas1, c(0.025, 0.975)) # Intervalo de confiança para beta1 pelos quantis do Bootstrap"
   ]
  },
  {
   "cell_type": "markdown",
   "metadata": {},
   "source": [
    "c) Utilize um teste de permutação para verificar se $\\beta_1 = 0$. É possível usar um teste de permutação para $\\beta_0 = 0$?  \n",
    "<br>  \n",
    "**Resolução:**  \n",
    "Para testar $H_0: \\beta_1 = 0 \\text{ vs } H_1: \\beta_1 \\neq 0$, podemos utilizar o teste t, calculado como:  \n",
    "\\begin{equation*}\n",
    "t=\\frac {\\hat{\\beta_1} - \\beta_{1,0}}{se(\\hat{\\beta_1})}\\text{, onde $\\beta_{1,0} = 0$}\n",
    "\\end{equation*}\n",
    "O erro padrão de $\\hat{\\beta_1}$ é dado por:  \n",
    "\\begin{equation*}\n",
    "    se(\\hat{\\beta_1}) = \\sqrt{\\frac{\\frac{\\sum \\limits^n_{i=1}e_i^2}{n-2}}{\\sum \\limits^n_{i=1}(x_i - \\overline{x})^2}}  \n",
    "\\end{equation*}"
   ]
  },
  {
   "cell_type": "code",
   "execution_count": 31,
   "metadata": {},
   "outputs": [],
   "source": [
    "estBeta1 = function(X, Y) {\n",
    "    return(cov(X, Y)/var(X))\n",
    "}\n",
    "estBeta0 = function(X, Y, beta1) {\n",
    "    return(mean(Y) - beta1 * mean(X))\n",
    "}"
   ]
  },
  {
   "cell_type": "code",
   "execution_count": 32,
   "metadata": {},
   "outputs": [],
   "source": [
    "predictY = function(X, beta1, beta0) {\n",
    "    return(beta0 + beta1*X)\n",
    "}"
   ]
  },
  {
   "cell_type": "code",
   "execution_count": 33,
   "metadata": {},
   "outputs": [],
   "source": [
    "error = function(pred, Y){\n",
    "    return(Y - pred)\n",
    "}"
   ]
  },
  {
   "cell_type": "code",
   "execution_count": 34,
   "metadata": {},
   "outputs": [],
   "source": [
    "se = function(X, error) {\n",
    "    return(sqrt((sum(error^2)/(n - 2))/(sum((X - mean(X))^2))))\n",
    "}"
   ]
  },
  {
   "cell_type": "code",
   "execution_count": 35,
   "metadata": {},
   "outputs": [],
   "source": [
    "tTest = function(b, h, sd){\n",
    "    return((b - h)/sd)\n",
    "}"
   ]
  },
  {
   "cell_type": "code",
   "execution_count": 36,
   "metadata": {},
   "outputs": [],
   "source": [
    "b1 = estBeta1(X, Y)\n",
    "b0 = estBeta0(X,Y,b1)\n",
    "p = predictY(X, b1, b0)\n",
    "e = error(p, Y)\n",
    "sd = se(X, e)\n",
    "t_stat = tTest(b1, 0, sd)"
   ]
  },
  {
   "cell_type": "code",
   "execution_count": 37,
   "metadata": {},
   "outputs": [],
   "source": [
    "B = 1000\n",
    "xb = matrix(sample(X, n * B, replace = T), nrow = B)\n",
    "yb = matrix(sample(Y, n * B, replace = T), nrow = B)\n",
    "ts = numeric(B)\n",
    "for(i in 1:B){\n",
    "    b1 = estBeta1(xb[i, ], yb[i, ])\n",
    "    b0 = estBeta0(xb[i, ], yb[i, ], b1)\n",
    "    p = predictY(xb[i, ], b1, b0)\n",
    "    sd = se(xb[i, ], error(p, Y))\n",
    "    ts[i] = tTest(b1, 0, sd)\n",
    "}"
   ]
  },
  {
   "cell_type": "markdown",
   "metadata": {},
   "source": [
    "Para encontrar o p-valor, fazemos: \n",
    "\\begin{equation*}\n",
    "    \\frac{1}{RE} \\sum \\limits^{RE}_{i=1} I(|t(x)| > t^*(\\pi(x))) \n",
    "\\end{equation*}\n",
    "onde RE é o número de replicações e $t^*(\\pi(x))$ são as estimativas feitas em cada replicação. "
   ]
  },
  {
   "cell_type": "code",
   "execution_count": 38,
   "metadata": {},
   "outputs": [
    {
     "data": {
      "text/html": [
       "0"
      ],
      "text/latex": [
       "0"
      ],
      "text/markdown": [
       "0"
      ],
      "text/plain": [
       "[1] 0"
      ]
     },
     "metadata": {},
     "output_type": "display_data"
    }
   ],
   "source": [
    "1 - mean(-ts<abs(t_stat)) # p-valor para o teste multilateral"
   ]
  },
  {
   "cell_type": "markdown",
   "metadata": {},
   "source": [
    "Como o p-valor é muito baixo, rejeitamos a hipótese nula e dizemos que $\\beta_0 \\neq 0$."
   ]
  },
  {
   "cell_type": "markdown",
   "metadata": {},
   "source": [
    "# Questão 5\n",
    "Considere o exemplo de aula (e script do R) para a utilização de cadeias de Markov ocultas modelar retornos da bolsa de valores. Nesse exemplo temos uma cadeia de Markov a tempo discreto modelando as transições entre 4 estados ocultos. Nesse caso, $X_t$ representa o estado oculto da cadeia no dia $t \\in \\{1, ..., n\\}$, $\\pi = (\\pi_1, ..., \\pi_4)$ o vetor de probabilidades iniciais, tal que $P(X_1 = i) = \\pi_i$, e $P = [p_{ij}]$ a matriz de transição da cadeia. Além disso, sejam $Y_t$ as variáveis observáveis do processo, representadas pelos log retornos. As probabilidades de emissão $\\phi(y_t|i) = f(Y_t = y_t| X_t = i)$ são tais que $Y_t|X_t = i \\sim N(\\mu_i, \\sigma_i^2)$, para $i = 1,2,3,4$.  \n",
    "1. Escolha valores iniciais para os parâmetros do modelo $P$, $\\sigma_i$, com $i=1,2,3,4$. Tome todos os valores de $\\pi_i = 1/4$ e $\\mu_i = 0$. Utilizando como base apenas o gerador de números (pseudo) aleatórios do R (runif), simule valores de $Y_t$, $t = 1, ..., 100$ para esta cadeia de Markov oculta. Descreva o algoritmo utilizado. "
   ]
  },
  {
   "cell_type": "code",
   "execution_count": 39,
   "metadata": {},
   "outputs": [],
   "source": [
    "n_states = 4\n",
    "pi_init = rep(1/4, n_states)\n",
    "mus = rep(0, n_states)\n",
    "\n",
    "sigmas = c(0.1, 1, 15, 5) # sigma_i de cada estado\n",
    "\n",
    "P = rbind(c(0.25, 0.4, 0.15, 0.2), # Matrix 4x4 de probabilidades de transição entre os estados\n",
    "          c(0.3, 0.5, 0.1, 0.1),\n",
    "          c(0.1, 0.3, 0.5, 0.1), \n",
    "          c(0.05, 0.2, 0.15, 0.6))\n",
    "\n",
    "p_cum = t(apply(P, 1, cumsum)) # Matriz de probabilidade formatada para gerar próximo estado\n",
    "\n",
    "p_cum_init = cumsum(pi_init) # Matriz de probabilidades iniciais"
   ]
  },
  {
   "cell_type": "code",
   "execution_count": 40,
   "metadata": {},
   "outputs": [],
   "source": [
    "# função que implementa o método de Box Muller\n",
    "# para gerar variáveis aleatórias normais com mu e sigma definidos, a partir de uniformes[0,1]\n",
    "boxMuller = function(size=2, mu=0, sigma=1){\n",
    "    u1 = runif(size/2, 0, 1)\n",
    "    u2 = runif(size/2, 0, 1)\n",
    "    norm = c(sqrt(-2 * log(u1)) * cos(2 * pi * u2))\n",
    "    return(norm * sigma + mu)\n",
    "}"
   ]
  },
  {
   "cell_type": "code",
   "execution_count": 41,
   "metadata": {},
   "outputs": [],
   "source": [
    "# Função que define o próximo estado da cadeia, a partir do estado atual, utilizando a matriz de transição\n",
    "# Caso seja a primeiro estado, considera as probabilidades iniciais e gera um estado inicial\n",
    "nextState = function(curr_state=FALSE){\n",
    "    prob = runif(1)\n",
    "    # Caso onde ainda não existe estado atual\n",
    "    if(curr_state == FALSE){ \n",
    "        return(which(p_cum_init >= prob)[1])\n",
    "    }\n",
    "    # Caso geral\n",
    "    else{\n",
    "        return(which(p_cum[curr_state, ] >= prob)[1])\n",
    "    }\n",
    "}"
   ]
  },
  {
   "cell_type": "code",
   "execution_count": 42,
   "metadata": {},
   "outputs": [],
   "source": [
    "yt = matrix(ncol = 2, nrow = 100)\n",
    "size = 100\n",
    "init_state = nextState()\n",
    "yt[1, 1] = init_state # estado \n",
    "# yt[1, 2] = rnorm(1, mus[init_state], sigmas[init_state]) \n",
    "yt[1, 2] = boxMuller(2, mus[init_state], sigmas[init_state]) # retorno"
   ]
  },
  {
   "cell_type": "code",
   "execution_count": 43,
   "metadata": {},
   "outputs": [],
   "source": [
    "for(t in 2:size){\n",
    "    ns = nextState(curr_state = yt[t-1, 1])\n",
    "    yt[t, 1] = ns # estado em t\n",
    "#     yt[t, 2] = rnorm(1, mus[ns], sigmas[ns]) \n",
    "    yt[t, 2] = boxMuller(2, mus[ns], sigmas[ns])# retorno em t\n",
    "}"
   ]
  },
  {
   "cell_type": "code",
   "execution_count": 44,
   "metadata": {},
   "outputs": [],
   "source": [
    "df_yt <- data.frame(state = yt[, 1], returns = yt[, 2])"
   ]
  },
  {
   "cell_type": "code",
   "execution_count": 45,
   "metadata": {},
   "outputs": [
    {
     "data": {
      "image/png": "[encoded data removed]",
      "text/plain": [
       "plot without title"
      ]
     },
     "metadata": {},
     "output_type": "display_data"
    }
   ],
   "source": [
    "plot(df_yt$returns, type='l')"
   ]
  },
  {
   "cell_type": "markdown",
   "metadata": {},
   "source": [
    "2. Utilize a função indicada no script de aula para estimar os parâmetros do modelo. Como as estimativas se\n",
    "comparam com os valores utilizados para a simulação?\n"
   ]
  },
  {
   "cell_type": "code",
   "execution_count": null,
   "metadata": {
    "hide_input": false,
    "scrolled": true
   },
   "outputs": [],
   "source": [
    "library(depmixS4)"
   ]
  },
  {
   "cell_type": "code",
   "execution_count": 47,
   "metadata": {},
   "outputs": [
    {
     "name": "stdout",
     "output_type": "stream",
     "text": [
      "[1] \"Estado inicial:  3\"\n"
     ]
    }
   ],
   "source": [
    "print(paste(\"Estado inicial: \", init_state))"
   ]
  },
  {
   "cell_type": "code",
   "execution_count": 48,
   "metadata": {},
   "outputs": [
    {
     "data": {
      "text/html": [
       "<ol class=list-inline>\n",
       "\t<li>0.1</li>\n",
       "\t<li>1</li>\n",
       "\t<li>15</li>\n",
       "\t<li>5</li>\n",
       "</ol>\n"
      ],
      "text/latex": [
       "\\begin{enumerate*}\n",
       "\\item 0.1\n",
       "\\item 1\n",
       "\\item 15\n",
       "\\item 5\n",
       "\\end{enumerate*}\n"
      ],
      "text/markdown": [
       "1. 0.1\n",
       "2. 1\n",
       "3. 15\n",
       "4. 5\n",
       "\n",
       "\n"
      ],
      "text/plain": [
       "[1]  0.1  1.0 15.0  5.0"
      ]
     },
     "metadata": {},
     "output_type": "display_data"
    }
   ],
   "source": [
    "sigmas"
   ]
  },
  {
   "cell_type": "code",
   "execution_count": 49,
   "metadata": {
    "hide_input": false
   },
   "outputs": [
    {
     "name": "stdout",
     "output_type": "stream",
     "text": [
      "converged at iteration 86 with logLik: -245.1584 \n"
     ]
    }
   ],
   "source": [
    "mod = depmix(returns ~ 1, family = gaussian(), nstates = 4, data = df_yt)\n",
    "fm2 = fit(mod, verbose = FALSE, message=FALSE)"
   ]
  },
  {
   "cell_type": "code",
   "execution_count": 50,
   "metadata": {},
   "outputs": [
    {
     "name": "stdout",
     "output_type": "stream",
     "text": [
      "Initial state probabilities model \n",
      "pr1 pr2 pr3 pr4 \n",
      "  0   0   1   0 \n",
      "\n",
      "Transition matrix \n",
      "        toS1  toS2  toS3  toS4\n",
      "fromS1 0.568 0.383 0.000 0.049\n",
      "fromS2 0.184 0.534 0.255 0.027\n",
      "fromS3 0.574 0.426 0.000 0.000\n",
      "fromS4 0.000 0.000 1.000 0.000\n",
      "\n",
      "Response parameters \n",
      "Resp 1 : gaussian \n",
      "    Re1.(Intercept) Re1.sd\n",
      "St1          -0.116  0.350\n",
      "St2          -1.245  3.089\n",
      "St3           8.978  7.230\n",
      "St4         -14.536  2.986\n"
     ]
    }
   ],
   "source": [
    "summary(fm2)"
   ]
  },
  {
   "cell_type": "markdown",
   "metadata": {},
   "source": [
    "3. Realize uma simulação de Monte Carlo para estimar a esperança dos estimadores por EM implementados\n",
    "nessa função. O que você pode afirmar sobre seu viés? (Dica: como os componentes de mistura não tem\n",
    "um ordenamento inerente, é importante reordenar os componentes dos vetores e matriz de transição para\n",
    "permitir a comparação. Uma sugestção é nomear os estados em ordem crescente de σ.)\n"
   ]
  },
  {
   "cell_type": "code",
   "execution_count": null,
   "metadata": {},
   "outputs": [],
   "source": [
    "start_time = Sys.time()\n",
    "\n",
    "REPEATS = 300\n",
    "stds = matrix(ncol = 4, nrow = REPEATS)\n",
    "means = matrix(ncol = 4, nrow = REPEATS)\n",
    "\n",
    "mod <- depmix(returns ~ 1, family = gaussian(), nstates = 4, data = df_yt)\n",
    "\n",
    "for (i in 1:REPEATS) {\n",
    "#     yb = yt[sample(nrow(yt), length(yt), replace=T),]\n",
    "#     df_yt = data.frame(state = yb[, 1], returns = yb[, 2])\n",
    "    fm2 <- fit(mod, verbose = FALSE);\n",
    "    params = as.data.frame(matrix(getpars(fm2)[21:28], # Estes parâmetros são as estimativas de média e variância\n",
    "                                  byrow = TRUE, ncol = 2, \n",
    "                                  dimnames = list(\n",
    "                                      NULL, c(\"mean\", \"std\"))))\n",
    "    \n",
    "    stds[i, ] = params[order(params$std), ]$std\n",
    "    means[i, ] = params[order(params$std), ]$mean\n",
    "}\n",
    "\n",
    "Sys.time() - start_time"
   ]
  },
  {
   "cell_type": "code",
   "execution_count": 52,
   "metadata": {},
   "outputs": [
    {
     "data": {
      "text/html": [
       "<ol class=list-inline>\n",
       "\t<li>0.382164254211831</li>\n",
       "\t<li>3.10453656052272</li>\n",
       "\t<li>4.47730672115657</li>\n",
       "\t<li>11.0893918003379</li>\n",
       "</ol>\n"
      ],
      "text/latex": [
       "\\begin{enumerate*}\n",
       "\\item 0.382164254211831\n",
       "\\item 3.10453656052272\n",
       "\\item 4.47730672115657\n",
       "\\item 11.0893918003379\n",
       "\\end{enumerate*}\n"
      ],
      "text/markdown": [
       "1. 0.382164254211831\n",
       "2. 3.10453656052272\n",
       "3. 4.47730672115657\n",
       "4. 11.0893918003379\n",
       "\n",
       "\n"
      ],
      "text/plain": [
       "[1]  0.3821643  3.1045366  4.4773067 11.0893918"
      ]
     },
     "metadata": {},
     "output_type": "display_data"
    }
   ],
   "source": [
    "apply(stds, 2, mean)"
   ]
  },
  {
   "cell_type": "code",
   "execution_count": 53,
   "metadata": {},
   "outputs": [
    {
     "data": {
      "text/html": [
       "<ol class=list-inline>\n",
       "\t<li>-0.10746473124245</li>\n",
       "\t<li>-4.39118330086487</li>\n",
       "\t<li>0.320821268688625</li>\n",
       "\t<li>5.46252766235055</li>\n",
       "</ol>\n"
      ],
      "text/latex": [
       "\\begin{enumerate*}\n",
       "\\item -0.10746473124245\n",
       "\\item -4.39118330086487\n",
       "\\item 0.320821268688625\n",
       "\\item 5.46252766235055\n",
       "\\end{enumerate*}\n"
      ],
      "text/markdown": [
       "1. -0.10746473124245\n",
       "2. -4.39118330086487\n",
       "3. 0.320821268688625\n",
       "4. 5.46252766235055\n",
       "\n",
       "\n"
      ],
      "text/plain": [
       "[1] -0.1074647 -4.3911833  0.3208213  5.4625277"
      ]
     },
     "metadata": {},
     "output_type": "display_data"
    }
   ],
   "source": [
    "apply(means, 2, mean)"
   ]
  },
  {
   "cell_type": "markdown",
   "metadata": {},
   "source": [
    "Neste teste, as estimativas de $\\sigma_i$ se aproximaram bastante dos valores utilizados para gerar os dados. Em outros testes realizados, com parâmetros geradores diferentes, o algoritmo apresentou maior dificuldade em convergir para um valor próximo do verdadeiro, dada a proximidade entre as distribuições. Além disso, conforme aumentei o número de replicações o erro da aproximação diminuiu. "
   ]
  }
 ],
 "metadata": {
  "authors": [
   {
    "name": "Ian Haas Mizoguchi - 00220235"
   }
  ],
  "date": "",
  "hide_input": false,
  "kernelspec": {
   "display_name": "R",
   "language": "R",
   "name": "ir"
  },
  "language_info": {
   "codemirror_mode": "r",
   "file_extension": ".r",
   "mimetype": "text/x-r-source",
   "name": "R",
   "pygments_lexer": "r",
   "version": "3.6.1"
  },
  "toc": {
   "base_numbering": 1,
   "nav_menu": {},
   "number_sections": false,
   "sideBar": true,
   "skip_h1_title": false,
   "title_cell": "Table of Contents",
   "title_sidebar": "Contents",
   "toc_cell": false,
   "toc_position": {
    "height": "737px",
    "left": "321px",
    "top": "203px",
    "width": "336px"
   },
   "toc_section_display": true,
   "toc_window_display": true
  }
 },
 "nbformat": 4,
 "nbformat_minor": 4
}
