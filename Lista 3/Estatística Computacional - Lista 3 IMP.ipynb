{
 "cells": [
  {
   "cell_type": "markdown",
   "metadata": {},
   "source": [
    "# Questão 1\n",
    "Indique o algoritmo para construir geradores de números aleatórios (partindo de números com distribuição uniforme [0,1]) para: \n",
    "\n",
    "O procedimento geral é realizado da seguinte forma: primeiro, a partir da função de densidade de cada distribuição, precisamos encontrar a função de distribuição acumulada. Tendo esta definição, precisamos então encontrar a função inversa da acumulada. Munidos destas expressões, geramos valores de uma distribuição Uniforme [0,1] (que aqui servem como probabilidades), e utilizamos esses valores para gerar números aleatórios na distribuição  de nosso interesse."
   ]
  },
  {
   "cell_type": "markdown",
   "metadata": {},
   "source": [
    "a) Distribuição de Pareto ( densidade $f(x|\\alpha, \\beta) = \\frac{\\beta \\alpha^{\\beta}}{x^{(\\beta + 1)}} I_{(\\alpha, \\infty)}(X)$.)\n",
    "<br>\n",
    "**Resolução**:  \n",
    "\n",
    "Tendo que a densidade da distribuição de Pareto é dada por $f(x|\\alpha, \\beta) = \\frac{\\beta \\alpha^{\\beta}}{x^{(\\beta + 1)}} I_{(\\alpha, \\infty)}(X)$, precisamos integrar essa expressão em relação a x para encontrar a acumulada. \n",
    "\n",
    "\\begin{equation*}\n",
    "    F(x) = \\int \\limits_{\\alpha}^x \\frac{\\beta \\alpha^{\\beta}}{t^{(\\beta + 1)}} dt = - \\frac{\\alpha^{\\beta}}{t^{\\beta}} \\Bigg|_{\\alpha}^x = 1 - \\frac{\\alpha^{\\beta}}{x^{\\beta}}\n",
    "\\end{equation*}\n",
    "\n",
    "Tendo a acumulada, para nosso gerador de números aleatórios precisamos encontrar a inversa da acumulada:  \n",
    "\n",
    "\\begin{equation*}\n",
    "    F^{-1} \\rightarrow (1-y)^{-\\frac{1}{\\beta}} \\alpha = x\n",
    "\\end{equation*}\n",
    "\n",
    "Como y é um valor entre 0 e 1, esta expressão também pode ser reescrita da seguinte forma, sem alterar o gerador de números aleatórios:  \n",
    "\n",
    "\\begin{equation*}\n",
    "    F^{-1} \\rightarrow (y)^{-\\frac{1}{\\beta}} \\alpha = x\n",
    "\\end{equation*}\n"
   ]
  },
  {
   "cell_type": "code",
   "execution_count": 54,
   "metadata": {},
   "outputs": [],
   "source": [
    "library(EnvStats)\n",
    "library(evd)\n",
    "library(tidyverse)"
   ]
  },
  {
   "cell_type": "code",
   "execution_count": 55,
   "metadata": {},
   "outputs": [],
   "source": [
    "inv = function(y, alpha, beta){\n",
    "    return(((y)^(-1/beta))*alpha)\n",
    "}"
   ]
  },
  {
   "cell_type": "code",
   "execution_count": 56,
   "metadata": {},
   "outputs": [],
   "source": [
    "SIZE = 1000\n",
    "probs = runif(SIZE)\n",
    "alpha = 1\n",
    "beta = 2"
   ]
  },
  {
   "cell_type": "code",
   "execution_count": 57,
   "metadata": {},
   "outputs": [],
   "source": [
    "data = inv(probs, alpha, beta)"
   ]
  },
  {
   "cell_type": "code",
   "execution_count": 58,
   "metadata": {},
   "outputs": [
    {
     "data": {
      "image/png": "[encoded data removed]",
      "text/plain": [
       "Plot with title \"Histogram of data\""
      ]
     },
     "metadata": {},
     "output_type": "display_data"
    }
   ],
   "source": [
    "hist(data)"
   ]
  },
  {
   "cell_type": "code",
   "execution_count": 59,
   "metadata": {},
   "outputs": [
    {
     "data": {
      "text/plain": [
       "\n",
       "\tOne-sample Kolmogorov-Smirnov test\n",
       "\n",
       "data:  data\n",
       "D = 0.054667, p-value = 0.005073\n",
       "alternative hypothesis: two-sided\n"
      ]
     },
     "metadata": {},
     "output_type": "display_data"
    }
   ],
   "source": [
    "ks.test(data, \"ppareto\", alpha, beta)"
   ]
  },
  {
   "cell_type": "markdown",
   "metadata": {},
   "source": [
    "b) Distribuição Gumbel padrão $$f(x) = e^{− (x+e^{− x})}$$"
   ]
  },
  {
   "cell_type": "markdown",
   "metadata": {},
   "source": [
    "Para encontrar a acumulada:  \n",
    "\n",
    "$$\n",
    "\\begin{align*}\n",
    "    F(x) & = \\int \\limits_{-\\infty}^x e^{−(t+e^{−t})} dt = \\int \\limits_{-\\infty}^x e^{−t} e^{-e^{−t}} dt \\\\\n",
    "    u & = e^{−t}  dt = \\frac{du}{-e^{−t}} \\\\\n",
    "    & = \\int \\limits_{-\\infty}^x -e^{−u} du \\\\\n",
    "    & = e^{−u} \\Bigg|_{-\\infty}^x \\\\\n",
    "    & = e^{-e^{−t}} \\Bigg|_{-\\infty}^x \\\\\n",
    "    & = e^{-e^{−x}}\n",
    "\\end{align*}\n",
    "$$\n",
    "\n",
    "A partir da acumulada, encontramos a inversa:  \n",
    "  \n",
    "$$  \n",
    "\\begin{align*}\n",
    "    F^{-1} \\rightarrow e^{-e^{−x}} & = y \\\\\n",
    "    x & = -ln(-ln(y))\\text{, onde y é uma variável Uniforme [0,1]}\n",
    "\\end{align*}\n",
    "$$  "
   ]
  },
  {
   "cell_type": "code",
   "execution_count": 60,
   "metadata": {},
   "outputs": [],
   "source": [
    "inv = function(y){\n",
    "    return(-log(-log(y)))\n",
    "}"
   ]
  },
  {
   "cell_type": "code",
   "execution_count": 61,
   "metadata": {},
   "outputs": [],
   "source": [
    "probs = runif(SIZE)\n",
    "data = inv(probs)"
   ]
  },
  {
   "cell_type": "code",
   "execution_count": 62,
   "metadata": {},
   "outputs": [
    {
     "data": {
      "text/plain": [
       "\n",
       "\tOne-sample Kolmogorov-Smirnov test\n",
       "\n",
       "data:  data\n",
       "D = 0.022809, p-value = 0.6756\n",
       "alternative hypothesis: two-sided\n"
      ]
     },
     "metadata": {},
     "output_type": "display_data"
    }
   ],
   "source": [
    "ks.test(data, \"pgumbel\")"
   ]
  },
  {
   "cell_type": "markdown",
   "metadata": {},
   "source": [
    "c) Distribuição F  \n",
    "<br>  \n",
    "**Resolução:**\n",
    "\n",
    "Para gerar valores de uma distribuição $F(a,b)$, podemos utilizar algumas relações conhecidas. Primeiro, sendo $Y \\sim \\chi^2_a$ e $Z \\sim \\chi^2_b$ independentes, temos que:  \n",
    "\n",
    "\\begin{equation*}\n",
    "    \\frac{\\frac{Y}{a}}{\\frac{Z}{b}} \\sim F(a,b)\n",
    "\\end{equation*}\n",
    "\n",
    "Por sua vez, para gerar as variáveis $Y$ e $Z$, podemos utilizar outro resultado conhecido. Sendo $W_i \\sim Normal$:  \n",
    "\n",
    "\\begin{equation*}\n",
    "    \\sum _{i=1}^{n} W_{i}^{2} \\sim \\chi^{2}_{n}\n",
    "\\end{equation*}\n",
    "\n",
    "Finalmente, podemos utilizar o método de Box-Muller para gerar variáveis aleatórias Normais a partir de variáveis aleatórias Uniformes. Sendo assim, o algoritmo para gerar um valor aleatório da distribuição $F(a,b)$ é:  \n",
    "1 - Utilizar o método de Box-Muller para gerar dois conjuntos variáveis aleatórias Normais, um de tamanho $a$ e outro de tamanho $b$, a partir de Uniformes[0,1].  \n",
    "2 - Utilizar os conjuntos de variáveis aleatórias Normais para gerar dois valores aleatórios com distribuições Chi quadrado.\n",
    "3 - Utilizar as duas variáveis "
   ]
  },
  {
   "cell_type": "code",
   "execution_count": 63,
   "metadata": {},
   "outputs": [],
   "source": [
    "a = 2\n",
    "b = 5\n",
    "# Gerando primeira normal\n",
    "u1 = mapply(runif, n = rep(a, times=SIZE/2))\n",
    "u2 = mapply(runif, n = rep(a, times=SIZE/2))\n",
    "n_a = matrix(c(sqrt(-2*log(u1))*cos(2*pi*u2),\n",
    "        sqrt(-2*log(u1))*sin(2*pi*u2)), nrow=a, ncol=SIZE)\n",
    "\n",
    "# Gerando segundo conjunto de normais\n",
    "u1 = mapply(runif, n = rep(b, times=SIZE/2))\n",
    "u2 = mapply(runif, n = rep(b, times=SIZE/2))\n",
    "n_b = matrix(c(sqrt(-2*log(u1))*cos(2*pi*u2),\n",
    "        sqrt(-2*log(u1))*sin(2*pi*u2)), nrow=b, ncol=SIZE)"
   ]
  },
  {
   "cell_type": "code",
   "execution_count": 64,
   "metadata": {},
   "outputs": [
    {
     "data": {
      "text/plain": [
       "\n",
       "\tOne-sample Kolmogorov-Smirnov test\n",
       "\n",
       "data:  n_a\n",
       "D = 0.016561, p-value = 0.6429\n",
       "alternative hypothesis: two-sided\n"
      ]
     },
     "metadata": {},
     "output_type": "display_data"
    }
   ],
   "source": [
    "ks.test(n_a, \"pnorm\")"
   ]
  },
  {
   "cell_type": "code",
   "execution_count": 65,
   "metadata": {},
   "outputs": [
    {
     "data": {
      "text/plain": [
       "\n",
       "\tOne-sample Kolmogorov-Smirnov test\n",
       "\n",
       "data:  n_b\n",
       "D = 0.010113, p-value = 0.6859\n",
       "alternative hypothesis: two-sided\n"
      ]
     },
     "metadata": {},
     "output_type": "display_data"
    }
   ],
   "source": [
    "ks.test(n_b, \"pnorm\")"
   ]
  },
  {
   "cell_type": "code",
   "execution_count": 66,
   "metadata": {},
   "outputs": [],
   "source": [
    "chi_a = colSums(n_a^2)\n",
    "chi_b = colSums(n_b^2)"
   ]
  },
  {
   "cell_type": "code",
   "execution_count": 67,
   "metadata": {},
   "outputs": [
    {
     "data": {
      "text/plain": [
       "\n",
       "\tOne-sample Kolmogorov-Smirnov test\n",
       "\n",
       "data:  chi_a\n",
       "D = 0.028507, p-value = 0.3907\n",
       "alternative hypothesis: two-sided\n"
      ]
     },
     "metadata": {},
     "output_type": "display_data"
    }
   ],
   "source": [
    "ks.test(chi_a, \"pchisq\", a)"
   ]
  },
  {
   "cell_type": "code",
   "execution_count": 68,
   "metadata": {},
   "outputs": [
    {
     "data": {
      "text/plain": [
       "\n",
       "\tOne-sample Kolmogorov-Smirnov test\n",
       "\n",
       "data:  chi_b\n",
       "D = 0.026226, p-value = 0.4972\n",
       "alternative hypothesis: two-sided\n"
      ]
     },
     "metadata": {},
     "output_type": "display_data"
    }
   ],
   "source": [
    "ks.test(chi_b, \"pchisq\", b)"
   ]
  },
  {
   "cell_type": "code",
   "execution_count": 69,
   "metadata": {},
   "outputs": [],
   "source": [
    "F = (chi_a / a)/(chi_b/b)"
   ]
  },
  {
   "cell_type": "code",
   "execution_count": 70,
   "metadata": {},
   "outputs": [
    {
     "data": {
      "text/plain": [
       "\n",
       "\tOne-sample Kolmogorov-Smirnov test\n",
       "\n",
       "data:  F\n",
       "D = 0.023421, p-value = 0.6429\n",
       "alternative hypothesis: two-sided\n"
      ]
     },
     "metadata": {},
     "output_type": "display_data"
    }
   ],
   "source": [
    "ks.test(F, \"pf\", a, b)"
   ]
  },
  {
   "cell_type": "markdown",
   "metadata": {},
   "source": [
    "d) Distribuição binomial negativa.  \n",
    "<br>  \n",
    "**Resolução:**  \n",
    "\n",
    "Para gerar números aleatórios de distribuições discretas, é preciso primeiro definir os intervalos de probabilidade associados a cada valor. Isso é problemático para distribuições que tem suporte em ${\\rm I\\!R}^+$, pois tecnicamente teríamos que criar infinitos intervalos. Porém, como a probabilidade da distribuição binomial negativa decresce conforme x aumenta, podemos gerar intervalos até um limite superior que contenha quase toda a probabilidade.  \n",
    "Tendo os intervalos, geramos variáveis aleatórias Uniformes[0,1], encontramos o intervalo correspondente e devolvemos aquele valor como a variável aleatória de interesse."
   ]
  },
  {
   "cell_type": "markdown",
   "metadata": {},
   "source": [
    "e) Distribuição bivariada com parâmetros $p \\in (0, 1)$ e $n \\in \\{1, 2, · · ·\\}$ e com função massa conjunta  \n",
    "\n",
    "\\begin{equation*}\n",
    "p(x, y|p) = \\begin{pmatrix} n \\\\ x \\end{pmatrix} \\begin{pmatrix} n \\\\ y \\end{pmatrix} \\frac{x^y (n − x)^{(n−y)} p^x(1-p)^{(n−x)}}{n^n}\\text{, } \\;\\;\\;\\;\\; x, y \\in \\{0, 1, · · · , n\\}\n",
    "\\end{equation*}\n",
    "\n",
    "<br>\n",
    "\n",
    "**Resolução:**   \n",
    "Desta vez, como $x$ e $y$ são limitados por $n$, podemos considerar toda a estrutura de probabilidade para gerar valores aleatórios. O procedimento é semelhante ao do item (d), mas desconsiderando o limite superior de probabilidade. Assim, primeiro geramos os intervalos de probabilidade associada a cada par de valores $(x, y)$, e depois utilizamos uma variável aleatória Uniforme[0,1] para escolher aleatoriamente valores desta distribuição. "
   ]
  },
  {
   "cell_type": "markdown",
   "metadata": {},
   "source": [
    "# Questão 2\n",
    "Se a variável aleatória X é um modelo de escala e locação, então sua função densidade tem a forma\n",
    "$f(x|a, b) = (1/b)f_0((x − a)/b)$, em que $f_0(x)$ é uma densidade que depende apenas de x, e não dos parâmetros\n",
    "de escala b e locação a."
   ]
  },
  {
   "cell_type": "markdown",
   "metadata": {},
   "source": [
    "a) Mostre que a geração de X, de uma variável $X_0$ com distribuição de $f_0$ é dada por $X = a + bX_0$.\n",
    "<br>\n",
    "**Resolução:**  \n",
    "\n",
    "Com X definido conforme acima, \n",
    "\\begin{align*}\n",
    "    F_X(x) & = P(X \\leq x) \\\\\n",
    "    & = P(a + bX_0 \\leq x) \\\\\n",
    "    & = P(X_0 \\leq \\frac{x-a}{b}) \\\\\n",
    "    & = F_{X_0}(\\frac{x-a}{b})\n",
    "\\end{align*}\n",
    "\n"
   ]
  },
  {
   "cell_type": "markdown",
   "metadata": {},
   "source": [
    "b) Aplique o resultado do item a para gerar valores com distribuição U[a−1/2; a + 1/2], U[0; b], e U[a; b] a partir\n",
    "da U[0; 1].\n",
    "<br>\n",
    "\n",
    "**Resolução:**  \n",
    "Para a distribuição uniforme contínua Uniforme[a, b], o parâmetro de locação é dado por $a$ e o parâmetro de escala é dado pela amplitude do intervalo, ou seja, $b - a$. Sendo assim, podemos implementar o método da seguinte forma:  "
   ]
  },
  {
   "cell_type": "code",
   "execution_count": 71,
   "metadata": {},
   "outputs": [],
   "source": [
    "customUniform = function(size, a, b){\n",
    "    x0 = runif(size, 0, 1)\n",
    "    return(a + (b-a)*x0)\n",
    "}"
   ]
  },
  {
   "cell_type": "code",
   "execution_count": 72,
   "metadata": {},
   "outputs": [],
   "source": [
    "# Valores arbitrários para implementação\n",
    "SIZE = 1000\n",
    "a = 1 \n",
    "b = 5 "
   ]
  },
  {
   "cell_type": "code",
   "execution_count": 73,
   "metadata": {},
   "outputs": [
    {
     "data": {
      "text/html": [
       "TRUE"
      ],
      "text/latex": [
       "TRUE"
      ],
      "text/markdown": [
       "TRUE"
      ],
      "text/plain": [
       "[1] TRUE"
      ]
     },
     "metadata": {},
     "output_type": "display_data"
    },
    {
     "data": {
      "text/html": [
       "TRUE"
      ],
      "text/latex": [
       "TRUE"
      ],
      "text/markdown": [
       "TRUE"
      ],
      "text/plain": [
       "[1] TRUE"
      ]
     },
     "metadata": {},
     "output_type": "display_data"
    },
    {
     "data": {
      "text/html": [
       "TRUE"
      ],
      "text/latex": [
       "TRUE"
      ],
      "text/markdown": [
       "TRUE"
      ],
      "text/plain": [
       "[1] TRUE"
      ]
     },
     "metadata": {},
     "output_type": "display_data"
    }
   ],
   "source": [
    "t1 = customUniform(SIZE, a - 1/2, a + 1/2) # U[a−1/2, a + 1/2]\n",
    "ks.test(t1, \"punif\", a - 1/2, a + 1/2)$p > 0.05 # Testa se os valores gerados passam no teste de Kolmogorov-Smirnov\n",
    "\n",
    "t2 = customUniform(SIZE, 0, b) # U[0, b]\n",
    "ks.test(t2, \"punif\", 0, b)$p > 0.05 # Testa se os valores gerados passam no teste de Kolmogorov-Smirnov\n",
    "\n",
    "t3 = customUniform(SIZE, a, b) # U[a, b]\n",
    "ks.test(t3, \"punif\", a, b)$p > 0.05 # Testa se os valores gerados passam no teste de Kolmogorov-Smirnov"
   ]
  },
  {
   "cell_type": "markdown",
   "metadata": {},
   "source": [
    "# Questão 3\n",
    "Sejam $U_1, U_2, ...$ variáveis independetes com distribuição uniforme padrão. Seja  \n",
    "\\begin{equation*}\n",
    "    X = \\{\\text{menor n tal que } \\sum \\limits_{i=1}^n U_i > 1\\}\n",
    "\\end{equation*}\n",
    "\n",
    "Utilize uma simulação de Monte Carlo para  \n",
    "a) Estimar $E(X)$. Qual o erro padrão desta estimativa?"
   ]
  },
  {
   "cell_type": "code",
   "execution_count": 74,
   "metadata": {},
   "outputs": [],
   "source": [
    "SIZE = 1000\n",
    "threshold = 1\n",
    "results = numeric(SIZE)\n",
    "for (i in 1:SIZE) {\n",
    "    sum = 0\n",
    "    iter = 0\n",
    "    while (sum < threshold) {\n",
    "        sum = sum + runif(1, 0, 1)\n",
    "        iter = iter + 1\n",
    "    }\n",
    "    results[i] = iter\n",
    "}"
   ]
  },
  {
   "cell_type": "code",
   "execution_count": 75,
   "metadata": {},
   "outputs": [
    {
     "name": "stdout",
     "output_type": "stream",
     "text": [
      "[1] \"E(X) =  2.685\"\n",
      "[1] \"Variância da estimativa =  0.0269402115804609\"\n"
     ]
    }
   ],
   "source": [
    "est = mean(results) # Estimativa por Monte Carlo\n",
    "vest = sqrt(sum((results-est)^2))/(SIZE)\n",
    "print(paste(\"E(X) = \", est))\n",
    "print(paste(\"Variância da estimativa = \", vest))"
   ]
  },
  {
   "cell_type": "markdown",
   "metadata": {},
   "source": [
    "Utilizando mil repetições, temos que $E(X) = \\overline{X} =  2,749$ e $Var(\\overline{X}) = 0,029$. Aumentando a amostra, teríamos uma redução do erro da aproximação de Monte Carlo. "
   ]
  },
  {
   "cell_type": "markdown",
   "metadata": {},
   "source": [
    "b)  Estimar $P(X \\geq 10)$. Qual o erro padrão desta estimativa?  \n",
    "<br>  \n",
    "**Resolução:**  \n",
    "Como a probabilidade de $P(X \\geq 10)$ é muito pequena, precisamos utilizar *importance sampling* para nos ajudar nesta simulação. Caso contrário, seria necessário um número muito grande de replicações para encontrar o caso de interesse. \n",
    "Uma boa candidata é a distribuição Beta, que gera valores entre 0 e 1 e, dependendo dos parâmetros, gera valores pequenos com baixa probabilidade. Teremos: \n",
    "\n",
    "\\begin{align*}\n",
    "    f(x) & = 1 \\text{, a fdp de uma Uniforme[0,1]} \\\\\n",
    "    h(x) & = \\{\\text{menor n tal que } \\sum \\limits_{i=1}^n Y_i > 1\\} \\\\\n",
    "    g(x) & = \\prod \\limits^n_{i=1}Beta(y|\\alpha, \\beta)\n",
    "\\end{align*}\n",
    "\n",
    "Para simplificar a implementação, vamos considerar $P(X < 10)$ e encontrar o complementar dessa probabilidade. Para o caso $P(X \\geq 10)$, teríamos que lidar com vetores de tamanhos variáveis."
   ]
  },
  {
   "cell_type": "code",
   "execution_count": 76,
   "metadata": {},
   "outputs": [
    {
     "name": "stdout",
     "output_type": "stream",
     "text": [
      "[1] \"P(X>=10) =  3.0761541200174e-06\"\n",
      "[1] \"Variância da estimativa =  1.80980158265992e-07\"\n"
     ]
    }
   ],
   "source": [
    "SIZE = 1000\n",
    "threshold = 1\n",
    "alpha = 1\n",
    "beta = 10\n",
    "results = numeric(SIZE)\n",
    "betas = mapply(rbeta, n = rep(SIZE, 9), alpha, beta)\n",
    "\n",
    "hx = (rowSums(betas) <= threshold) # Caso as nove primeiras observações não alcancem o threshold desejado, temos que X>=10\n",
    "gx = apply(dbeta(betas, alpha, beta), 1, prod) # g(x), produtório de Beta(y|alpha, beta)\n",
    "\n",
    "y = hx/gx\n",
    "est = mean(y)  # Estimativa por Monte Carlo\n",
    "vest = sqrt(sum((y - est)^2))/(SIZE)\n",
    "print(paste(\"P(X>=10) = \", est))\n",
    "print(paste(\"Variância da estimativa = \", vest))"
   ]
  },
  {
   "cell_type": "markdown",
   "metadata": {},
   "source": [
    "c) Estimar P(X = 10). Qual o erro padrão desta estimativa?  \n",
    "<br>\n",
    "\n",
    "**Resolução:**  \n",
    "Podemos utilizar o mesmo procedimento realizado no item (b), de forma que:  "
   ]
  },
  {
   "cell_type": "code",
   "execution_count": 77,
   "metadata": {},
   "outputs": [
    {
     "name": "stdout",
     "output_type": "stream",
     "text": [
      "[1] \"P(X=10) =  9.28917315915832e-07\"\n",
      "[1] \"Variância da estimativa =  1.28492051343581e-07\"\n"
     ]
    }
   ],
   "source": [
    "SIZE = 1000\n",
    "threshold = 1\n",
    "alpha = 1\n",
    "beta = 10\n",
    "results = numeric(SIZE)\n",
    "betas = mapply(rbeta, n = rep(SIZE, 10), alpha, beta)\n",
    "\n",
    "hx = (rowSums(betas[,1:9]) <= threshold & rowSums(betas) > threshold) # Geramos 10 valores. Caso \n",
    "gx = apply(dbeta(betas, alpha, beta), 1, prod)\n",
    "\n",
    "y = hx/gx\n",
    "est = mean(y)  # Estimativa por Monte Carlo\n",
    "vest = sqrt(sum((y - est)^2))/(SIZE) # Erro da estimativa por Monte Carlo\n",
    "\n",
    "print(paste(\"P(X=10) = \", est))\n",
    "print(paste(\"Variância da estimativa = \", vest))"
   ]
  },
  {
   "cell_type": "markdown",
   "metadata": {},
   "source": [
    "# Questão 4\n",
    "Sejam\n",
    "\\begin{align*}\n",
    "    X & = (6.2, 5.1, 7.6, 2.5, 3.5, 9.4, 4.1, 6.3, 3.0, 0.8) \\\\ \n",
    "    Y & = (6.9, 5.1, 7.5, 11.1, 10.9, 4.2, 10.5, 6.8, 12.3, 14.3)\n",
    "\\end{align*}\n",
    "e considere o modelo de regressão linear $Y = \\beta_0 + \\beta_1 X + \\epsilon$. Sejam $\\hat{\\beta_0}$ e $\\hat{\\beta_1}$ os estimadores de mínimos quadrados de $\\beta_0$ e $\\beta_1$.  \n",
    "a) Utilize o bootstrap para construir um intervalo de confiança 95% para $\\hat{\\beta_0}$ e $\\hat{\\beta_1}$  \n",
    "<br>  \n",
    "**Resolução:**  \n",
    "Os estimadores de mínimos quadrados são:  \n",
    "\\begin{align*}\n",
    "    \\hat{\\beta_0} & = \\overline{Y} - \\beta_1 \\overline{X} \\\\\n",
    "    \\hat{\\beta_1} & = \\frac{Cov(X,Y)}{Var(X)}\n",
    "\\end{align*}\n",
    "Para construir o intervalo de confiança a 95%, vamos repetidamente amostrar valores, calcular os estimadores e guardar o resultado. Implementando, temos:  "
   ]
  },
  {
   "cell_type": "code",
   "execution_count": 78,
   "metadata": {},
   "outputs": [],
   "source": [
    "X = c(6.2, 5.1, 7.6, 2.5, 3.5, 9.4, 4.1, 6.3, 3, 0.8)\n",
    "\n",
    "Y = c(6.9, 5.1, 7.5, 11.1, 10.9, 4.2, 10.5, 6.8, 12.3, 14.3)\n",
    "\n",
    "B = 10000\n",
    "\n",
    "n = length(X)"
   ]
  },
  {
   "cell_type": "code",
   "execution_count": 79,
   "metadata": {},
   "outputs": [],
   "source": [
    "xb = matrix(sample(X, n * B, replace = T), nrow = B)\n",
    "yb = matrix(sample(Y, n * B, replace = T), nrow = B)\n",
    "\n",
    "xmean = apply(xb, 1, mean)\n",
    "ymean = apply(yb, 1, mean)\n",
    "\n",
    "vars = apply(xb, 1, var)\n",
    "\n",
    "betas0 = numeric(B)\n",
    "betas1 = numeric(B)\n",
    "\n",
    "for(i in 1:B){\n",
    "    covs = cov(xb[i,], yb[i, ])\n",
    "    betas1[i] = covs / vars[i]\n",
    "    betas0[i] = ymean[i] - betas1[i]*xmean[i]\n",
    "}"
   ]
  },
  {
   "cell_type": "code",
   "execution_count": 80,
   "metadata": {},
   "outputs": [
    {
     "data": {
      "text/html": [
       "<dl class=dl-horizontal>\n",
       "\t<dt>2.5%</dt>\n",
       "\t\t<dd>4.14346420167417</dd>\n",
       "\t<dt>97.5%</dt>\n",
       "\t\t<dd>13.8934110591115</dd>\n",
       "</dl>\n"
      ],
      "text/latex": [
       "\\begin{description*}\n",
       "\\item[2.5\\textbackslash{}\\%] 4.14346420167417\n",
       "\\item[97.5\\textbackslash{}\\%] 13.8934110591115\n",
       "\\end{description*}\n"
      ],
      "text/markdown": [
       "2.5%\n",
       ":   4.1434642016741797.5%\n",
       ":   13.8934110591115\n",
       "\n"
      ],
      "text/plain": [
       "     2.5%     97.5% \n",
       " 4.143464 13.893411 "
      ]
     },
     "metadata": {},
     "output_type": "display_data"
    },
    {
     "data": {
      "text/html": [
       "<dl class=dl-horizontal>\n",
       "\t<dt>2.5%</dt>\n",
       "\t\t<dd>-0.92307115160332</dd>\n",
       "\t<dt>97.5%</dt>\n",
       "\t\t<dd>0.909282642340726</dd>\n",
       "</dl>\n"
      ],
      "text/latex": [
       "\\begin{description*}\n",
       "\\item[2.5\\textbackslash{}\\%] -0.92307115160332\n",
       "\\item[97.5\\textbackslash{}\\%] 0.909282642340726\n",
       "\\end{description*}\n"
      ],
      "text/markdown": [
       "2.5%\n",
       ":   -0.9230711516033297.5%\n",
       ":   0.909282642340726\n",
       "\n"
      ],
      "text/plain": [
       "      2.5%      97.5% \n",
       "-0.9230712  0.9092826 "
      ]
     },
     "metadata": {},
     "output_type": "display_data"
    }
   ],
   "source": [
    "quantile(betas0, c(0.025, 0.975)) # Intervalo de confiança para beta0 pelos quantis do Bootstrap\n",
    "quantile(betas1, c(0.025, 0.975)) # Intervalo de confiança para beta1 pelos quantis do Bootstrap"
   ]
  },
  {
   "cell_type": "markdown",
   "metadata": {},
   "source": [
    "b) Assumindo que X é dado e $\\epsilon \\sim N(0, \\sigma^2)$, utilize o bootstrap paramétrico para obter as mesmas estimativas.  \n"
   ]
  },
  {
   "cell_type": "code",
   "execution_count": 81,
   "metadata": {},
   "outputs": [],
   "source": [
    "beta1 = cov(X,Y)/var(X)\n",
    "beta0 = mean(Y) - beta1*mean(X)\n",
    "std = sqrt(var(Y - beta0 - beta1*X))"
   ]
  },
  {
   "cell_type": "code",
   "execution_count": 82,
   "metadata": {},
   "outputs": [],
   "source": [
    "xb = matrix(sample(X, n * B, replace = T), nrow = B)\n",
    "yb = matrix(sample(Y, n * B, replace = T), nrow = B)\n",
    "\n",
    "xmean = apply(xb, 1, mean)\n",
    "# ymean = apply(yb, 1, mean)\n",
    "\n",
    "vars = apply(xb, 1, var)\n",
    "\n",
    "betas0 = numeric(B)\n",
    "betas1 = numeric(B)\n",
    "\n",
    "for (i in 1:B) {\n",
    "    erros = rnorm(n, 0, std)\n",
    "    covs = cov(xb[i, ], yb[i, ] - erros)\n",
    "    betas1[i] = covs/vars[i]\n",
    "    betas0[i] = mean(yb[i,] - erros) - betas1[i] * xmean[i]\n",
    "}"
   ]
  },
  {
   "cell_type": "code",
   "execution_count": 83,
   "metadata": {},
   "outputs": [
    {
     "data": {
      "text/html": [
       "<dl class=dl-horizontal>\n",
       "\t<dt>2.5%</dt>\n",
       "\t\t<dd>3.66886063617903</dd>\n",
       "\t<dt>97.5%</dt>\n",
       "\t\t<dd>14.4962758049901</dd>\n",
       "</dl>\n"
      ],
      "text/latex": [
       "\\begin{description*}\n",
       "\\item[2.5\\textbackslash{}\\%] 3.66886063617903\n",
       "\\item[97.5\\textbackslash{}\\%] 14.4962758049901\n",
       "\\end{description*}\n"
      ],
      "text/markdown": [
       "2.5%\n",
       ":   3.6688606361790397.5%\n",
       ":   14.4962758049901\n",
       "\n"
      ],
      "text/plain": [
       "     2.5%     97.5% \n",
       " 3.668861 14.496276 "
      ]
     },
     "metadata": {},
     "output_type": "display_data"
    },
    {
     "data": {
      "text/html": [
       "<dl class=dl-horizontal>\n",
       "\t<dt>2.5%</dt>\n",
       "\t\t<dd>-1.03616869998373</dd>\n",
       "\t<dt>97.5%</dt>\n",
       "\t\t<dd>1.01241418392321</dd>\n",
       "</dl>\n"
      ],
      "text/latex": [
       "\\begin{description*}\n",
       "\\item[2.5\\textbackslash{}\\%] -1.03616869998373\n",
       "\\item[97.5\\textbackslash{}\\%] 1.01241418392321\n",
       "\\end{description*}\n"
      ],
      "text/markdown": [
       "2.5%\n",
       ":   -1.0361686999837397.5%\n",
       ":   1.01241418392321\n",
       "\n"
      ],
      "text/plain": [
       "     2.5%     97.5% \n",
       "-1.036169  1.012414 "
      ]
     },
     "metadata": {},
     "output_type": "display_data"
    }
   ],
   "source": [
    "quantile(betas0, c(0.025, 0.975)) # Intervalo de confiança para beta0 pelos quantis do Bootstrap\n",
    "quantile(betas1, c(0.025, 0.975)) # Intervalo de confiança para beta1 pelos quantis do Bootstrap"
   ]
  },
  {
   "cell_type": "markdown",
   "metadata": {},
   "source": [
    "c) Utilize um teste de permutação para verificar se $\\beta_1 = 0$. É possível usar um teste de permutação para $\\beta_0 = 0$?  \n",
    "<br>  \n",
    "**Resolução:**  \n",
    "Para testar $H_0: \\beta_1 = 0 \\text{ vs } H_1: \\beta_1 \\neq 0$, podemos utilizar o teste t, calculado como:  \n",
    "\\begin{equation*}\n",
    "t=\\frac {\\hat{\\beta_1} - \\beta_{1,0}}{se(\\hat{\\beta_1})}\\text{, onde $\\beta_{1,0} = 0$}\n",
    "\\end{equation*}\n",
    "O erro padrão de $\\hat{\\beta_1}$ é dado por:  \n",
    "\\begin{equation*}\n",
    "    se(\\hat{\\beta_1}) = \\sqrt{\\frac{\\frac{\\sum \\limits^n_{i=1}e_i^2}{n-2}}{\\sum \\limits^n_{i=1}(x_i - \\overline{x})^2}}  \n",
    "\\end{equation*}"
   ]
  },
  {
   "cell_type": "code",
   "execution_count": 84,
   "metadata": {},
   "outputs": [],
   "source": [
    "estBeta1 = function(X, Y) {\n",
    "    return(cov(X, Y)/var(X))\n",
    "}\n",
    "estBeta0 = function(X, Y, beta1) {\n",
    "    return(mean(Y) - beta1 * mean(X))\n",
    "}"
   ]
  },
  {
   "cell_type": "code",
   "execution_count": 85,
   "metadata": {},
   "outputs": [],
   "source": [
    "predictY = function(X, beta1, beta0) {\n",
    "    return(beta0 + beta1*X)\n",
    "}"
   ]
  },
  {
   "cell_type": "code",
   "execution_count": 86,
   "metadata": {},
   "outputs": [],
   "source": [
    "error = function(pred, Y){\n",
    "    return(Y - pred)\n",
    "}"
   ]
  },
  {
   "cell_type": "code",
   "execution_count": 87,
   "metadata": {},
   "outputs": [],
   "source": [
    "se = function(X, error) {\n",
    "    return(sqrt((sum(error^2)/(n - 2))/(sum((X - mean(X))^2))))\n",
    "}"
   ]
  },
  {
   "cell_type": "code",
   "execution_count": 88,
   "metadata": {},
   "outputs": [],
   "source": [
    "tTest = function(b, h, sd){\n",
    "    return((b - h)/sd)\n",
    "}"
   ]
  },
  {
   "cell_type": "code",
   "execution_count": 89,
   "metadata": {},
   "outputs": [],
   "source": [
    "b1 = estBeta1(X, Y)\n",
    "b0 = estBeta0(X,Y,b1)\n",
    "p = predictY(X, b1, b0)\n",
    "e = error(p, Y)\n",
    "sd = se(X, e)\n",
    "t_stat = tTest(b1, 0, sd)"
   ]
  },
  {
   "cell_type": "code",
   "execution_count": 90,
   "metadata": {},
   "outputs": [],
   "source": [
    "B = 1000\n",
    "xb = matrix(sample(X, n * B, replace = T), nrow = B)\n",
    "yb = matrix(sample(Y, n * B, replace = T), nrow = B)\n",
    "ts = numeric(B)\n",
    "for(i in 1:B){\n",
    "    b1 = estBeta1(xb[i, ], yb[i, ])\n",
    "    b0 = estBeta0(xb[i, ], yb[i, ], b1)\n",
    "    p = predictY(xb[i, ], b1, b0)\n",
    "    sd = se(xb[i, ], error(p, Y))\n",
    "    ts[i] = tTest(b1, 0, sd)\n",
    "}"
   ]
  },
  {
   "cell_type": "markdown",
   "metadata": {},
   "source": [
    "Para encontrar o p-valor, fazemos: \n",
    "\\begin{equation*}\n",
    "    \\frac{1}{RE} \\sum \\limits^{RE}_{i=1} I(|t(x)| > t^*(\\pi(x))) \n",
    "\\end{equation*}\n",
    "onde RE é o número de replicações e $t^*(\\pi(x))$ são as estimativas feitas em cada replicação. "
   ]
  },
  {
   "cell_type": "code",
   "execution_count": 91,
   "metadata": {},
   "outputs": [
    {
     "data": {
      "text/html": [
       "0"
      ],
      "text/latex": [
       "0"
      ],
      "text/markdown": [
       "0"
      ],
      "text/plain": [
       "[1] 0"
      ]
     },
     "metadata": {},
     "output_type": "display_data"
    }
   ],
   "source": [
    "1 - mean(-ts<abs(t_stat)) # p-valor para o teste multilateral"
   ]
  },
  {
   "cell_type": "markdown",
   "metadata": {},
   "source": [
    "Como o p-valor é muito baixo, rejeitamos a hipótese nula e dizemos que $\\beta_0 \\neq 0$."
   ]
  },
  {
   "cell_type": "markdown",
   "metadata": {},
   "source": [
    "# Questão 5\n",
    "Considere o exemplo de aula (e script do R) para a utilização de cadeias de Markov ocultas modelar retornos da bolsa de valores. Nesse exemplo temos uma cadeia de Markov a tempo discreto modelando as transições entre 4 estados ocultos. Nesse caso, $X_t$ representa o estado oculto da cadeia no dia $t \\in \\{1, ..., n\\}$, $\\pi = (\\pi_1, ..., \\pi_4)$ o vetor de probabilidades iniciais, tal que $P(X_1 = i) = \\pi_i$, e $P = [p_{ij}]$ a matriz de transição da cadeia. Além disso, sejam $Y_t$ as variáveis observáveis do processo, representadas pelos log retornos. As probabilidades de emissão $\\phi(y_t|i) = f(Y_t = y_t| X_t = i)$ são tais que $Y_t|X_t = i \\sim N(\\mu_i, \\sigma_i^2)$, para $i = 1,2,3,4$.  \n",
    "1. Escolha valores iniciais para os parâmetros do modelo $P$, $\\sigma_i$, com $i=1,2,3,4$. Tome todos os valores de $\\pi_i = 1/4$ e $\\mu_i = 0$. Utilizando como base apenas o gerador de números (pseudo) aleatórios do R (runif), simule valores de $Y_t$, $t = 1, ..., 100$ para esta cadeia de Markov oculta. Descreva o algoritmo utilizado. "
   ]
  },
  {
   "cell_type": "code",
   "execution_count": 92,
   "metadata": {},
   "outputs": [],
   "source": [
    "n_states = 4\n",
    "pi_init = rep(1/4, n_states)\n",
    "mus = rep(0, n_states)\n",
    "\n",
    "sigmas = c(0.1, 1, 15, 5) # sigma_i de cada estado\n",
    "\n",
    "P = rbind(c(0.25, 0.4, 0.15, 0.2), # Matrix 4x4 de probabilidades de transição entre os estados\n",
    "          c(0.3, 0.5, 0.1, 0.1),\n",
    "          c(0.1, 0.3, 0.5, 0.1), \n",
    "          c(0.05, 0.2, 0.15, 0.6))\n",
    "\n",
    "p_cum = t(apply(P, 1, cumsum)) # Matriz de probabilidade formatada para gerar próximo estado\n",
    "\n",
    "p_cum_init = cumsum(pi_init) # Matriz de probabilidades iniciais"
   ]
  },
  {
   "cell_type": "code",
   "execution_count": 93,
   "metadata": {},
   "outputs": [],
   "source": [
    "# função que implementa o método de Box Muller\n",
    "# para gerar variáveis aleatórias normais com mu e sigma definidos, a partir de uniformes[0,1]\n",
    "boxMuller = function(size=2, mu=0, sigma=1){\n",
    "    u1 = runif(size/2, 0, 1)\n",
    "    u2 = runif(size/2, 0, 1)\n",
    "    norm = c(sqrt(-2 * log(u1)) * cos(2 * pi * u2))\n",
    "    return(norm * sigma + mu)\n",
    "}"
   ]
  },
  {
   "cell_type": "code",
   "execution_count": 94,
   "metadata": {},
   "outputs": [],
   "source": [
    "# Função que define o próximo estado da cadeia, a partir do estado atual, utilizando a matriz de transição\n",
    "# Caso seja a primeiro estado, considera as probabilidades iniciais e gera um estado inicial\n",
    "nextState = function(curr_state=FALSE){\n",
    "    prob = runif(1)\n",
    "    # Caso onde ainda não existe estado atual\n",
    "    if(curr_state == FALSE){ \n",
    "        return(which(p_cum_init >= prob)[1])\n",
    "    }\n",
    "    # Caso geral\n",
    "    else{\n",
    "        return(which(p_cum[curr_state, ] >= prob)[1])\n",
    "    }\n",
    "}"
   ]
  },
  {
   "cell_type": "code",
   "execution_count": 95,
   "metadata": {},
   "outputs": [],
   "source": [
    "yt = matrix(ncol = 2, nrow = 100)\n",
    "size = 100\n",
    "init_state = nextState()\n",
    "yt[1, 1] = init_state # estado \n",
    "# yt[1, 2] = rnorm(1, mus[init_state], sigmas[init_state]) \n",
    "yt[1, 2] = boxMuller(2, mus[init_state], sigmas[init_state]) # retorno"
   ]
  },
  {
   "cell_type": "code",
   "execution_count": 96,
   "metadata": {},
   "outputs": [],
   "source": [
    "for(t in 2:size){\n",
    "    ns = nextState(curr_state = yt[t-1, 1])\n",
    "    yt[t, 1] = ns # estado em t\n",
    "#     yt[t, 2] = rnorm(1, mus[ns], sigmas[ns]) \n",
    "    yt[t, 2] = boxMuller(2, mus[ns], sigmas[ns])# retorno em t\n",
    "}"
   ]
  },
  {
   "cell_type": "code",
   "execution_count": 97,
   "metadata": {},
   "outputs": [],
   "source": [
    "df_yt <- data.frame(state = yt[, 1], returns = yt[, 2])"
   ]
  },
  {
   "cell_type": "code",
   "execution_count": 98,
   "metadata": {},
   "outputs": [
    {
     "data": {
      "image/png": "[encoded data removed]",
      "text/plain": [
       "plot without title"
      ]
     },
     "metadata": {},
     "output_type": "display_data"
    }
   ],
   "source": [
    "plot(df_yt$returns, type='l')"
   ]
  },
  {
   "cell_type": "markdown",
   "metadata": {},
   "source": [
    "2. Utilize a função indicada no script de aula para estimar os parâmetros do modelo. Como as estimativas se\n",
    "comparam com os valores utilizados para a simulação?\n"
   ]
  },
  {
   "cell_type": "code",
   "execution_count": 99,
   "metadata": {
    "hide_input": false,
    "scrolled": true
   },
   "outputs": [],
   "source": [
    "library(depmixS4)"
   ]
  },
  {
   "cell_type": "code",
   "execution_count": 100,
   "metadata": {},
   "outputs": [
    {
     "name": "stdout",
     "output_type": "stream",
     "text": [
      "[1] \"Estado inicial:  4\"\n"
     ]
    }
   ],
   "source": [
    "print(paste(\"Estado inicial: \", init_state))"
   ]
  },
  {
   "cell_type": "code",
   "execution_count": 101,
   "metadata": {},
   "outputs": [
    {
     "data": {
      "text/html": [
       "<ol class=list-inline>\n",
       "\t<li>0.1</li>\n",
       "\t<li>1</li>\n",
       "\t<li>15</li>\n",
       "\t<li>5</li>\n",
       "</ol>\n"
      ],
      "text/latex": [
       "\\begin{enumerate*}\n",
       "\\item 0.1\n",
       "\\item 1\n",
       "\\item 15\n",
       "\\item 5\n",
       "\\end{enumerate*}\n"
      ],
      "text/markdown": [
       "1. 0.1\n",
       "2. 1\n",
       "3. 15\n",
       "4. 5\n",
       "\n",
       "\n"
      ],
      "text/plain": [
       "[1]  0.1  1.0 15.0  5.0"
      ]
     },
     "metadata": {},
     "output_type": "display_data"
    }
   ],
   "source": [
    "sigmas"
   ]
  },
  {
   "cell_type": "code",
   "execution_count": 102,
   "metadata": {
    "hide_input": false
   },
   "outputs": [
    {
     "name": "stdout",
     "output_type": "stream",
     "text": [
      "converged at iteration 188 with logLik: -206.0635 \n"
     ]
    }
   ],
   "source": [
    "mod = depmix(returns ~ 1, family = gaussian(), nstates = 4, data = df_yt)\n",
    "fm2 = fit(mod, verbose = FALSE, message=FALSE)"
   ]
  },
  {
   "cell_type": "code",
   "execution_count": 103,
   "metadata": {},
   "outputs": [
    {
     "name": "stdout",
     "output_type": "stream",
     "text": [
      "Initial state probabilities model \n",
      "pr1 pr2 pr3 pr4 \n",
      "  0   1   0   0 \n",
      "\n",
      "Transition matrix \n",
      "        toS1  toS2  toS3  toS4\n",
      "fromS1 0.667 0.333 0.000 0.000\n",
      "fromS2 0.108 0.152 0.271 0.469\n",
      "fromS3 0.122 0.100 0.045 0.732\n",
      "fromS4 0.071 0.078 0.428 0.423\n",
      "\n",
      "Response parameters \n",
      "Resp 1 : gaussian \n",
      "    Re1.(Intercept) Re1.sd\n",
      "St1          -0.924 15.043\n",
      "St2          -0.184  3.000\n",
      "St3          -0.040  0.071\n",
      "St4           0.237  0.709\n"
     ]
    }
   ],
   "source": [
    "summary(fm2)"
   ]
  },
  {
   "cell_type": "markdown",
   "metadata": {},
   "source": [
    "3. Realize uma simulação de Monte Carlo para estimar a esperança dos estimadores por EM implementados\n",
    "nessa função. O que você pode afirmar sobre seu viés? (Dica: como os componentes de mistura não tem\n",
    "um ordenamento inerente, é importante reordenar os componentes dos vetores e matriz de transição para\n",
    "permitir a comparação. Uma sugestção é nomear os estados em ordem crescente de σ.)\n"
   ]
  },
  {
   "cell_type": "code",
   "execution_count": 104,
   "metadata": {},
   "outputs": [
    {
     "name": "stdout",
     "output_type": "stream",
     "text": [
      "converged at iteration 70 with logLik: -214.7357 \n",
      "converged at iteration 66 with logLik: -216.8713 \n",
      "converged at iteration 109 with logLik: -209.4411 \n",
      "converged at iteration 61 with logLik: -214.7357 \n",
      "converged at iteration 97 with logLik: -216.8713 \n",
      "converged at iteration 113 with logLik: -209.4411 \n",
      "converged at iteration 104 with logLik: -214.7357 \n",
      "converged at iteration 54 with logLik: -209.4411 \n",
      "converged at iteration 186 with logLik: -206.0635 \n",
      "converged at iteration 318 with logLik: -206.0635 \n",
      "converged at iteration 81 with logLik: -216.8713 \n",
      "converged at iteration 114 with logLik: -211.2408 \n",
      "converged at iteration 227 with logLik: -206.0635 \n",
      "converged at iteration 84 with logLik: -216.8713 \n",
      "converged at iteration 58 with logLik: -216.8713 \n",
      "converged at iteration 73 with logLik: -217.3586 \n",
      "converged at iteration 52 with logLik: -208.762 \n",
      "converged at iteration 76 with logLik: -217.3586 \n",
      "converged at iteration 223 with logLik: -206.0635 \n",
      "converged at iteration 68 with logLik: -216.8713 \n",
      "converged at iteration 58 with logLik: -216.8713 \n",
      "converged at iteration 81 with logLik: -216.8713 \n",
      "converged at iteration 80 with logLik: -209.4411 \n",
      "converged at iteration 245 with logLik: -210.2058 \n",
      "converged at iteration 87 with logLik: -217.3586 \n",
      "converged at iteration 55 with logLik: -209.4411 \n",
      "converged at iteration 177 with logLik: -210.2058 \n",
      "converged at iteration 64 with logLik: -214.7357 \n",
      "converged at iteration 97 with logLik: -209.4411 \n",
      "converged at iteration 58 with logLik: -216.8713 \n",
      "converged at iteration 177 with logLik: -206.0635 \n",
      "converged at iteration 60 with logLik: -216.8713 \n",
      "converged at iteration 250 with logLik: -206.0635 \n",
      "converged at iteration 92 with logLik: -209.4411 \n",
      "converged at iteration 483 with logLik: -206.0414 \n",
      "converged at iteration 119 with logLik: -214.7357 \n",
      "converged at iteration 70 with logLik: -216.8713 \n",
      "converged at iteration 77 with logLik: -216.8713 \n",
      "converged at iteration 66 with logLik: -216.8713 \n",
      "converged at iteration 270 with logLik: -206.0635 \n",
      "converged at iteration 67 with logLik: -216.8713 \n",
      "converged at iteration 314 with logLik: -206.0635 \n",
      "converged at iteration 460 with logLik: -206.0635 \n",
      "converged at iteration 78 with logLik: -214.7357 \n",
      "converged at iteration 56 with logLik: -216.8713 \n",
      "converged at iteration 56 with logLik: -216.8713 \n",
      "converged at iteration 94 with logLik: -214.7357 \n",
      "converged at iteration 112 with logLik: -214.7357 \n",
      "converged at iteration 69 with logLik: -214.7357 \n",
      "converged at iteration 225 with logLik: -206.0635 \n",
      "converged at iteration 68 with logLik: -217.3586 \n",
      "converged at iteration 148 with logLik: -206.1058 \n",
      "converged at iteration 221 with logLik: -206.0635 \n",
      "converged at iteration 303 with logLik: -206.0635 \n",
      "converged at iteration 59 with logLik: -216.8713 \n",
      "converged at iteration 84 with logLik: -209.4411 \n",
      "converged at iteration 98 with logLik: -214.7357 \n",
      "converged at iteration 161 with logLik: -214.7357 \n",
      "converged at iteration 74 with logLik: -217.3586 \n",
      "converged at iteration 69 with logLik: -216.8713 \n",
      "converged at iteration 53 with logLik: -209.4411 \n",
      "converged at iteration 78 with logLik: -209.4411 \n",
      "converged at iteration 63 with logLik: -216.8713 \n",
      "converged at iteration 228 with logLik: -206.0635 \n",
      "converged at iteration 72 with logLik: -216.8713 \n",
      "converged at iteration 195 with logLik: -206.0635 \n",
      "converged at iteration 245 with logLik: -206.0635 \n",
      "converged at iteration 69 with logLik: -209.4411 \n",
      "converged at iteration 67 with logLik: -214.7357 \n",
      "converged at iteration 223 with logLik: -206.0635 \n",
      "converged at iteration 69 with logLik: -209.4411 \n",
      "converged at iteration 113 with logLik: -216.8713 \n",
      "converged at iteration 85 with logLik: -214.7357 \n",
      "converged at iteration 187 with logLik: -206.0635 \n",
      "converged at iteration 217 with logLik: -210.2058 \n",
      "converged at iteration 115 with logLik: -217.1612 \n",
      "converged at iteration 80 with logLik: -217.3586 \n",
      "converged at iteration 64 with logLik: -216.8713 \n",
      "converged at iteration 76 with logLik: -214.7357 \n",
      "converged at iteration 80 with logLik: -216.8713 \n",
      "converged at iteration 69 with logLik: -214.7357 \n",
      "converged at iteration 70 with logLik: -216.8713 \n",
      "converged at iteration 149 with logLik: -216.8713 \n",
      "converged at iteration 67 with logLik: -216.8713 \n",
      "converged at iteration 74 with logLik: -214.7357 \n",
      "converged at iteration 54 with logLik: -209.4411 \n",
      "converged at iteration 169 with logLik: -206.0635 \n",
      "converged at iteration 83 with logLik: -214.7357 \n",
      "converged at iteration 243 with logLik: -206.0635 \n",
      "converged at iteration 223 with logLik: -206.0635 \n",
      "converged at iteration 136 with logLik: -216.8713 \n",
      "converged at iteration 200 with logLik: -210.2058 \n",
      "converged at iteration 70 with logLik: -208.5314 \n",
      "converged at iteration 53 with logLik: -209.4411 \n",
      "converged at iteration 74 with logLik: -208.5314 \n",
      "converged at iteration 190 with logLik: -206.0635 \n",
      "converged at iteration 226 with logLik: -206.0635 \n",
      "converged at iteration 65 with logLik: -209.4411 \n",
      "converged at iteration 259 with logLik: -206.0635 \n",
      "converged at iteration 186 with logLik: -206.0635 \n",
      "converged at iteration 168 with logLik: -216.8713 \n",
      "converged at iteration 61 with logLik: -209.4411 \n",
      "converged at iteration 224 with logLik: -206.0635 \n",
      "converged at iteration 229 with logLik: -206.0635 \n",
      "converged at iteration 67 with logLik: -216.8713 \n",
      "converged at iteration 80 with logLik: -209.4411 \n",
      "converged at iteration 55 with logLik: -216.8713 \n",
      "converged at iteration 239 with logLik: -206.0635 \n",
      "converged at iteration 172 with logLik: -210.2058 \n",
      "converged at iteration 53 with logLik: -216.8713 \n",
      "converged at iteration 217 with logLik: -206.2105 \n",
      "converged at iteration 217 with logLik: -206.0414 \n",
      "converged at iteration 82 with logLik: -216.8713 \n",
      "converged at iteration 229 with logLik: -206.0635 \n",
      "converged at iteration 72 with logLik: -216.8713 \n",
      "converged at iteration 68 with logLik: -216.8713 \n",
      "converged at iteration 206 with logLik: -210.2058 \n",
      "converged at iteration 77 with logLik: -217.3586 \n",
      "converged at iteration 95 with logLik: -216.8713 \n",
      "converged at iteration 86 with logLik: -216.8713 \n",
      "converged at iteration 268 with logLik: -206.0414 \n",
      "converged at iteration 91 with logLik: -216.8713 \n",
      "converged at iteration 67 with logLik: -209.4411 \n",
      "converged at iteration 223 with logLik: -206.0635 \n",
      "converged at iteration 75 with logLik: -217.3586 \n",
      "converged at iteration 72 with logLik: -209.4411 \n",
      "converged at iteration 63 with logLik: -216.8713 \n",
      "converged at iteration 47 with logLik: -216.8713 \n",
      "converged at iteration 239 with logLik: -206.0635 \n",
      "converged at iteration 62 with logLik: -216.8713 \n",
      "converged at iteration 60 with logLik: -216.8713 \n",
      "converged at iteration 191 with logLik: -206.0635 \n",
      "converged at iteration 63 with logLik: -209.4411 \n",
      "converged at iteration 211 with logLik: -206.0635 \n",
      "converged at iteration 75 with logLik: -214.7357 \n",
      "converged at iteration 149 with logLik: -218.0364 \n",
      "converged at iteration 194 with logLik: -206.0635 \n",
      "converged at iteration 219 with logLik: -206.0635 \n",
      "converged at iteration 239 with logLik: -206.0635 \n",
      "converged at iteration 187 with logLik: -210.2058 \n",
      "converged at iteration 189 with logLik: -206.0635 \n",
      "converged at iteration 67 with logLik: -214.7357 \n",
      "converged at iteration 73 with logLik: -217.3586 \n",
      "converged at iteration 83 with logLik: -217.3586 \n",
      "converged at iteration 74 with logLik: -209.4411 \n",
      "converged at iteration 80 with logLik: -216.8713 \n",
      "converged at iteration 68 with logLik: -214.7357 \n",
      "converged at iteration 144 with logLik: -206.2105 \n",
      "converged at iteration 330 with logLik: -206.0635 \n",
      "converged at iteration 86 with logLik: -214.7357 \n",
      "converged at iteration 118 with logLik: -214.7357 \n",
      "converged at iteration 83 with logLik: -209.4411 \n",
      "converged at iteration 55 with logLik: -210.2058 \n",
      "converged at iteration 225 with logLik: -206.0635 \n",
      "converged at iteration 72 with logLik: -210.2058 \n",
      "converged at iteration 248 with logLik: -210.2058 \n",
      "converged at iteration 198 with logLik: -206.0635 \n",
      "converged at iteration 201 with logLik: -210.2058 \n",
      "converged at iteration 77 with logLik: -214.7357 \n",
      "converged at iteration 79 with logLik: -216.8713 \n",
      "converged at iteration 172 with logLik: -218.6602 \n",
      "converged at iteration 193 with logLik: -210.2058 \n",
      "converged at iteration 69 with logLik: -217.3586 \n",
      "converged at iteration 76 with logLik: -217.3586 \n",
      "converged at iteration 110 with logLik: -216.8713 \n",
      "converged at iteration 78 with logLik: -217.3586 \n",
      "converged at iteration 184 with logLik: -206.0635 \n",
      "converged at iteration 59 with logLik: -216.8713 \n",
      "converged at iteration 67 with logLik: -216.8713 \n",
      "converged at iteration 266 with logLik: -206.0635 \n",
      "converged at iteration 191 with logLik: -206.0635 \n",
      "converged at iteration 44 with logLik: -216.8713 \n",
      "converged at iteration 61 with logLik: -216.8713 \n",
      "converged at iteration 65 with logLik: -214.7357 \n",
      "converged at iteration 129 with logLik: -214.7357 \n",
      "converged at iteration 72 with logLik: -216.8713 \n",
      "converged at iteration 105 with logLik: -217.1612 \n",
      "converged at iteration 85 with logLik: -214.7357 \n",
      "converged at iteration 226 with logLik: -206.0635 \n",
      "converged at iteration 68 with logLik: -216.8713 \n",
      "converged at iteration 72 with logLik: -217.3586 \n",
      "converged at iteration 79 with logLik: -217.3586 \n",
      "converged at iteration 242 with logLik: -210.2058 \n",
      "converged at iteration 82 with logLik: -217.3586 \n",
      "converged at iteration 75 with logLik: -205.6248 \n",
      "converged at iteration 69 with logLik: -217.3586 \n",
      "converged at iteration 103 with logLik: -217.3586 \n",
      "converged at iteration 196 with logLik: -206.0635 \n",
      "converged at iteration 94 with logLik: -216.8713 \n",
      "converged at iteration 68 with logLik: -209.4411 \n",
      "converged at iteration 189 with logLik: -206.0635 \n",
      "converged at iteration 234 with logLik: -206.0635 \n",
      "converged at iteration 107 with logLik: -216.8713 \n",
      "converged at iteration 272 with logLik: -206.0635 \n",
      "converged at iteration 79 with logLik: -205.6248 \n",
      "converged at iteration 70 with logLik: -217.3586 \n",
      "converged at iteration 74 with logLik: -214.7357 \n",
      "converged at iteration 54 with logLik: -208.762 \n",
      "converged at iteration 225 with logLik: -206.0635 \n",
      "converged at iteration 173 with logLik: -210.2058 \n",
      "converged at iteration 184 with logLik: -206.2105 \n",
      "converged at iteration 215 with logLik: -206.0635 \n",
      "converged at iteration 70 with logLik: -209.4411 \n",
      "converged at iteration 71 with logLik: -217.3586 \n",
      "converged at iteration 62 with logLik: -209.4411 \n",
      "converged at iteration 220 with logLik: -210.2058 \n",
      "converged at iteration 136 with logLik: -214.7357 \n",
      "converged at iteration 233 with logLik: -206.0635 \n",
      "converged at iteration 51 with logLik: -209.4411 \n",
      "converged at iteration 61 with logLik: -216.8713 \n",
      "converged at iteration 45 with logLik: -216.8713 \n",
      "converged at iteration 77 with logLik: -209.4411 \n",
      "converged at iteration 55 with logLik: -216.8713 \n",
      "converged at iteration 208 with logLik: -206.0635 \n",
      "converged at iteration 62 with logLik: -216.8713 \n",
      "converged at iteration 207 with logLik: -206.0635 \n",
      "converged at iteration 234 with logLik: -206.0635 \n",
      "converged at iteration 254 with logLik: -206.0635 \n",
      "converged at iteration 183 with logLik: -206.0635 \n",
      "converged at iteration 56 with logLik: -216.8713 \n",
      "converged at iteration 191 with logLik: -206.0635 \n",
      "converged at iteration 72 with logLik: -216.8713 \n",
      "converged at iteration 81 with logLik: -216.8713 \n",
      "converged at iteration 241 with logLik: -206.0635 \n",
      "converged at iteration 218 with logLik: -206.0635 \n",
      "converged at iteration 216 with logLik: -206.0635 \n",
      "converged at iteration 232 with logLik: -206.0635 \n",
      "converged at iteration 69 with logLik: -214.7357 \n",
      "converged at iteration 71 with logLik: -217.3586 \n",
      "converged at iteration 103 with logLik: -203.6005 \n",
      "converged at iteration 56 with logLik: -208.762 \n",
      "converged at iteration 71 with logLik: -217.3586 \n",
      "converged at iteration 94 with logLik: -214.7357 \n",
      "converged at iteration 129 with logLik: -210.2058 \n",
      "converged at iteration 275 with logLik: -206.0635 \n",
      "converged at iteration 63 with logLik: -209.4411 \n",
      "converged at iteration 56 with logLik: -209.4411 \n",
      "converged at iteration 96 with logLik: -216.8713 \n",
      "converged at iteration 221 with logLik: -206.0635 \n",
      "converged at iteration 87 with logLik: -217.3586 \n",
      "converged at iteration 79 with logLik: -216.8713 \n",
      "converged at iteration 70 with logLik: -210.2058 \n",
      "converged at iteration 393 with logLik: -206.0635 \n",
      "converged at iteration 67 with logLik: -216.8713 \n",
      "converged at iteration 245 with logLik: -206.0635 \n",
      "converged at iteration 127 with logLik: -214.7357 \n",
      "converged at iteration 80 with logLik: -216.8713 \n",
      "converged at iteration 136 with logLik: -214.7357 \n",
      "converged at iteration 410 with logLik: -206.0635 \n",
      "converged at iteration 205 with logLik: -206.0635 \n",
      "converged at iteration 186 with logLik: -206.0635 \n",
      "converged at iteration 54 with logLik: -216.8713 \n",
      "converged at iteration 100 with logLik: -217.3586 \n",
      "converged at iteration 215 with logLik: -210.2058 \n",
      "converged at iteration 82 with logLik: -216.8713 \n",
      "converged at iteration 239 with logLik: -206.0635 \n",
      "converged at iteration 83 with logLik: -216.8713 \n",
      "converged at iteration 154 with logLik: -206.1059 \n",
      "converged at iteration 69 with logLik: -209.4411 \n",
      "converged at iteration 94 with logLik: -216.8713 \n",
      "converged at iteration 217 with logLik: -210.8007 \n",
      "converged at iteration 284 with logLik: -206.0635 \n",
      "converged at iteration 88 with logLik: -209.4411 \n",
      "converged at iteration 210 with logLik: -206.0635 \n",
      "converged at iteration 112 with logLik: -216.8713 \n",
      "converged at iteration 75 with logLik: -209.4411 \n",
      "converged at iteration 106 with logLik: -216.8713 \n",
      "converged at iteration 166 with logLik: -216.8713 \n",
      "converged at iteration 197 with logLik: -206.0635 \n",
      "converged at iteration 79 with logLik: -209.4411 \n",
      "converged at iteration 247 with logLik: -206.0635 \n",
      "converged at iteration 110 with logLik: -211.2408 \n",
      "converged at iteration 68 with logLik: -217.3586 \n",
      "converged at iteration 56 with logLik: -209.4411 \n",
      "converged at iteration 70 with logLik: -217.3586 \n",
      "converged at iteration 106 with logLik: -216.8713 \n",
      "converged at iteration 59 with logLik: -216.8713 \n",
      "converged at iteration 111 with logLik: -216.8713 \n",
      "converged at iteration 192 with logLik: -210.2058 \n",
      "converged at iteration 82 with logLik: -217.3586 \n",
      "converged at iteration 106 with logLik: -214.7357 \n",
      "converged at iteration 238 with logLik: -206.0635 \n",
      "converged at iteration 71 with logLik: -216.8713 \n",
      "converged at iteration 137 with logLik: -216.8713 \n",
      "converged at iteration 192 with logLik: -206.0635 \n",
      "converged at iteration 71 with logLik: -214.7357 \n",
      "converged at iteration 236 with logLik: -206.0635 \n",
      "converged at iteration 84 with logLik: -209.4411 \n",
      "converged at iteration 261 with logLik: -210.2058 \n",
      "converged at iteration 104 with logLik: -216.8713 \n",
      "converged at iteration 71 with logLik: -216.8713 \n",
      "converged at iteration 223 with logLik: -206.0635 \n",
      "converged at iteration 75 with logLik: -214.7357 \n",
      "converged at iteration 197 with logLik: -206.0414 \n",
      "converged at iteration 219 with logLik: -210.8007 \n",
      "converged at iteration 59 with logLik: -216.8713 \n",
      "converged at iteration 223 with logLik: -206.0635 \n",
      "converged at iteration 78 with logLik: -210.1622 \n",
      "converged at iteration 71 with logLik: -216.8713 \n",
      "converged at iteration 260 with logLik: -210.2058 \n"
     ]
    },
    {
     "data": {
      "text/plain": [
       "Time difference of 1.111841 mins"
      ]
     },
     "metadata": {},
     "output_type": "display_data"
    }
   ],
   "source": [
    "start_time = Sys.time()\n",
    "\n",
    "REPEATS = 300\n",
    "stds = matrix(ncol = 4, nrow = REPEATS)\n",
    "means = matrix(ncol = 4, nrow = REPEATS)\n",
    "\n",
    "mod <- depmix(returns ~ 1, family = gaussian(), nstates = 4, data = df_yt)\n",
    "\n",
    "for (i in 1:REPEATS) {\n",
    "    fm2 <- fit(mod, verbose = FALSE);\n",
    "    params = as.data.frame(matrix(getpars(fm2)[21:28], # Estes parâmetros são as estimativas de média e variância\n",
    "                                  byrow = TRUE, ncol = 2, \n",
    "                                  dimnames = list(\n",
    "                                      NULL, c(\"mean\", \"std\"))))\n",
    "    \n",
    "    stds[i, ] = params[order(params$std), ]$std\n",
    "    means[i, ] = params[order(params$std), ]$mean\n",
    "}\n",
    "\n",
    "Sys.time() - start_time"
   ]
  },
  {
   "cell_type": "code",
   "execution_count": 105,
   "metadata": {},
   "outputs": [
    {
     "data": {
      "text/html": [
       "<ol class=list-inline>\n",
       "\t<li>0.267551473573822</li>\n",
       "\t<li>1.18172431050651</li>\n",
       "\t<li>5.49037290040396</li>\n",
       "\t<li>16.9743340094001</li>\n",
       "</ol>\n"
      ],
      "text/latex": [
       "\\begin{enumerate*}\n",
       "\\item 0.267551473573822\n",
       "\\item 1.18172431050651\n",
       "\\item 5.49037290040396\n",
       "\\item 16.9743340094001\n",
       "\\end{enumerate*}\n"
      ],
      "text/markdown": [
       "1. 0.267551473573822\n",
       "2. 1.18172431050651\n",
       "3. 5.49037290040396\n",
       "4. 16.9743340094001\n",
       "\n",
       "\n"
      ],
      "text/plain": [
       "[1]  0.2675515  1.1817243  5.4903729 16.9743340"
      ]
     },
     "metadata": {},
     "output_type": "display_data"
    }
   ],
   "source": [
    "apply(stds, 2, mean)"
   ]
  },
  {
   "cell_type": "code",
   "execution_count": 106,
   "metadata": {},
   "outputs": [
    {
     "data": {
      "text/html": [
       "<ol class=list-inline>\n",
       "\t<li>0.0140520296061689</li>\n",
       "\t<li>0.544305725422353</li>\n",
       "\t<li>-1.4101687843478</li>\n",
       "\t<li>0.126462181019726</li>\n",
       "</ol>\n"
      ],
      "text/latex": [
       "\\begin{enumerate*}\n",
       "\\item 0.0140520296061689\n",
       "\\item 0.544305725422353\n",
       "\\item -1.4101687843478\n",
       "\\item 0.126462181019726\n",
       "\\end{enumerate*}\n"
      ],
      "text/markdown": [
       "1. 0.0140520296061689\n",
       "2. 0.544305725422353\n",
       "3. -1.4101687843478\n",
       "4. 0.126462181019726\n",
       "\n",
       "\n"
      ],
      "text/plain": [
       "[1]  0.01405203  0.54430573 -1.41016878  0.12646218"
      ]
     },
     "metadata": {},
     "output_type": "display_data"
    }
   ],
   "source": [
    "apply(means, 2, mean)"
   ]
  },
  {
   "cell_type": "markdown",
   "metadata": {},
   "source": [
    "Neste teste, as estimativas de $\\sigma_i$ se aproximaram bastante dos valores utilizados para gerar os dados. Em outros testes realizados, com parâmetros geradores diferentes, o algoritmo apresentou maior dificuldade em convergir para um valor próximo do verdadeiro, dada a proximidade entre as distribuições. Além disso, conforme aumentei o número de replicações o erro da aproximação diminuiu. "
   ]
  }
 ],
 "metadata": {
  "authors": [
   {
    "name": "Ian Haas Mizoguchi - 00220235"
   }
  ],
  "date": "",
  "hide_input": false,
  "kernelspec": {
   "display_name": "R",
   "language": "R",
   "name": "ir"
  },
  "language_info": {
   "codemirror_mode": "r",
   "file_extension": ".r",
   "mimetype": "text/x-r-source",
   "name": "R",
   "pygments_lexer": "r",
   "version": "3.6.1"
  },
  "toc": {
   "base_numbering": 1,
   "nav_menu": {},
   "number_sections": false,
   "sideBar": true,
   "skip_h1_title": false,
   "title_cell": "Table of Contents",
   "title_sidebar": "Contents",
   "toc_cell": false,
   "toc_position": {
    "height": "737px",
    "left": "321px",
    "top": "203px",
    "width": "336px"
   },
   "toc_section_display": true,
   "toc_window_display": true
  }
 },
 "nbformat": 4,
 "nbformat_minor": 4
}
